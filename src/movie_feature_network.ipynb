{
 "cells": [
  {
   "cell_type": "markdown",
   "metadata": {},
   "source": [
    "# Movies feature graph"
   ]
  },
  {
   "cell_type": "code",
   "execution_count": 145,
   "metadata": {},
   "outputs": [],
   "source": [
    "# Imports\n",
    "import numpy as np\n",
    "import pandas as pd\n",
    "from matplotlib import pyplot as plt\n",
    "from scipy.spatial.distance import pdist, squareform\n",
    "import networkx as nx\n",
    "import ast\n",
    "\n",
    "# Constants\n",
    "ML_DATA_PATH = '../data/ml-100k-convert/'\n",
    "GENERATED_PATH = '../generated/'\n",
    "GRAPH_PATH = '../graphs/'\n",
    "\n",
    "%matplotlib inline"
   ]
  },
  {
   "cell_type": "code",
   "execution_count": 146,
   "metadata": {},
   "outputs": [],
   "source": [
    "movies = pd.read_csv(GENERATED_PATH+'final_movies.csv')"
   ]
  },
  {
   "cell_type": "markdown",
   "metadata": {
    "heading_collapsed": true
   },
   "source": [
    "## Combining the tmdb and MovieLens dataset"
   ]
  },
  {
   "cell_type": "markdown",
   "metadata": {
    "hidden": true
   },
   "source": [
    "<b>WE CAN SKIP THIS, CREATES THE 'FINAL_MOVIES.CSV' FILE </b>"
   ]
  },
  {
   "cell_type": "code",
   "execution_count": 45,
   "metadata": {
    "hidden": true,
    "scrolled": true
   },
   "outputs": [
    {
     "data": {
      "text/html": [
       "<div>\n",
       "<style scoped>\n",
       "    .dataframe tbody tr th:only-of-type {\n",
       "        vertical-align: middle;\n",
       "    }\n",
       "\n",
       "    .dataframe tbody tr th {\n",
       "        vertical-align: top;\n",
       "    }\n",
       "\n",
       "    .dataframe thead th {\n",
       "        text-align: right;\n",
       "    }\n",
       "</style>\n",
       "<table border=\"1\" class=\"dataframe\">\n",
       "  <thead>\n",
       "    <tr style=\"text-align: right;\">\n",
       "      <th></th>\n",
       "      <th>budget</th>\n",
       "      <th>genres</th>\n",
       "      <th>id</th>\n",
       "      <th>keywords</th>\n",
       "      <th>original_language</th>\n",
       "      <th>popularity</th>\n",
       "      <th>production_companies</th>\n",
       "      <th>production_countries</th>\n",
       "      <th>release_date</th>\n",
       "      <th>revenue</th>\n",
       "      <th>runtime</th>\n",
       "      <th>spoken_languages</th>\n",
       "      <th>title</th>\n",
       "      <th>vote_average</th>\n",
       "      <th>vote_count</th>\n",
       "    </tr>\n",
       "  </thead>\n",
       "  <tbody>\n",
       "    <tr>\n",
       "      <td>0</td>\n",
       "      <td>237000000</td>\n",
       "      <td>[{\"id\": 28, \"name\": \"Action\"}, {\"id\": 12, \"nam...</td>\n",
       "      <td>19995</td>\n",
       "      <td>[{\"id\": 1463, \"name\": \"culture clash\"}, {\"id\":...</td>\n",
       "      <td>en</td>\n",
       "      <td>150.437577</td>\n",
       "      <td>[{\"name\": \"Ingenious Film Partners\", \"id\": 289...</td>\n",
       "      <td>[{\"iso_3166_1\": \"US\", \"name\": \"United States o...</td>\n",
       "      <td>2009-12-10</td>\n",
       "      <td>2787965087</td>\n",
       "      <td>162.0</td>\n",
       "      <td>[{\"iso_639_1\": \"en\", \"name\": \"English\"}, {\"iso...</td>\n",
       "      <td>Avatar</td>\n",
       "      <td>7.2</td>\n",
       "      <td>11800</td>\n",
       "    </tr>\n",
       "    <tr>\n",
       "      <td>1</td>\n",
       "      <td>300000000</td>\n",
       "      <td>[{\"id\": 12, \"name\": \"Adventure\"}, {\"id\": 14, \"...</td>\n",
       "      <td>285</td>\n",
       "      <td>[{\"id\": 270, \"name\": \"ocean\"}, {\"id\": 726, \"na...</td>\n",
       "      <td>en</td>\n",
       "      <td>139.082615</td>\n",
       "      <td>[{\"name\": \"Walt Disney Pictures\", \"id\": 2}, {\"...</td>\n",
       "      <td>[{\"iso_3166_1\": \"US\", \"name\": \"United States o...</td>\n",
       "      <td>2007-05-19</td>\n",
       "      <td>961000000</td>\n",
       "      <td>169.0</td>\n",
       "      <td>[{\"iso_639_1\": \"en\", \"name\": \"English\"}]</td>\n",
       "      <td>Pirates of the Caribbean: At World's End</td>\n",
       "      <td>6.9</td>\n",
       "      <td>4500</td>\n",
       "    </tr>\n",
       "    <tr>\n",
       "      <td>2</td>\n",
       "      <td>245000000</td>\n",
       "      <td>[{\"id\": 28, \"name\": \"Action\"}, {\"id\": 12, \"nam...</td>\n",
       "      <td>206647</td>\n",
       "      <td>[{\"id\": 470, \"name\": \"spy\"}, {\"id\": 818, \"name...</td>\n",
       "      <td>en</td>\n",
       "      <td>107.376788</td>\n",
       "      <td>[{\"name\": \"Columbia Pictures\", \"id\": 5}, {\"nam...</td>\n",
       "      <td>[{\"iso_3166_1\": \"GB\", \"name\": \"United Kingdom\"...</td>\n",
       "      <td>2015-10-26</td>\n",
       "      <td>880674609</td>\n",
       "      <td>148.0</td>\n",
       "      <td>[{\"iso_639_1\": \"fr\", \"name\": \"Fran\\u00e7ais\"},...</td>\n",
       "      <td>Spectre</td>\n",
       "      <td>6.3</td>\n",
       "      <td>4466</td>\n",
       "    </tr>\n",
       "    <tr>\n",
       "      <td>3</td>\n",
       "      <td>250000000</td>\n",
       "      <td>[{\"id\": 28, \"name\": \"Action\"}, {\"id\": 80, \"nam...</td>\n",
       "      <td>49026</td>\n",
       "      <td>[{\"id\": 849, \"name\": \"dc comics\"}, {\"id\": 853,...</td>\n",
       "      <td>en</td>\n",
       "      <td>112.312950</td>\n",
       "      <td>[{\"name\": \"Legendary Pictures\", \"id\": 923}, {\"...</td>\n",
       "      <td>[{\"iso_3166_1\": \"US\", \"name\": \"United States o...</td>\n",
       "      <td>2012-07-16</td>\n",
       "      <td>1084939099</td>\n",
       "      <td>165.0</td>\n",
       "      <td>[{\"iso_639_1\": \"en\", \"name\": \"English\"}]</td>\n",
       "      <td>The Dark Knight Rises</td>\n",
       "      <td>7.6</td>\n",
       "      <td>9106</td>\n",
       "    </tr>\n",
       "    <tr>\n",
       "      <td>4</td>\n",
       "      <td>260000000</td>\n",
       "      <td>[{\"id\": 28, \"name\": \"Action\"}, {\"id\": 12, \"nam...</td>\n",
       "      <td>49529</td>\n",
       "      <td>[{\"id\": 818, \"name\": \"based on novel\"}, {\"id\":...</td>\n",
       "      <td>en</td>\n",
       "      <td>43.926995</td>\n",
       "      <td>[{\"name\": \"Walt Disney Pictures\", \"id\": 2}]</td>\n",
       "      <td>[{\"iso_3166_1\": \"US\", \"name\": \"United States o...</td>\n",
       "      <td>2012-03-07</td>\n",
       "      <td>284139100</td>\n",
       "      <td>132.0</td>\n",
       "      <td>[{\"iso_639_1\": \"en\", \"name\": \"English\"}]</td>\n",
       "      <td>John Carter</td>\n",
       "      <td>6.1</td>\n",
       "      <td>2124</td>\n",
       "    </tr>\n",
       "  </tbody>\n",
       "</table>\n",
       "</div>"
      ],
      "text/plain": [
       "      budget                                             genres      id  \\\n",
       "0  237000000  [{\"id\": 28, \"name\": \"Action\"}, {\"id\": 12, \"nam...   19995   \n",
       "1  300000000  [{\"id\": 12, \"name\": \"Adventure\"}, {\"id\": 14, \"...     285   \n",
       "2  245000000  [{\"id\": 28, \"name\": \"Action\"}, {\"id\": 12, \"nam...  206647   \n",
       "3  250000000  [{\"id\": 28, \"name\": \"Action\"}, {\"id\": 80, \"nam...   49026   \n",
       "4  260000000  [{\"id\": 28, \"name\": \"Action\"}, {\"id\": 12, \"nam...   49529   \n",
       "\n",
       "                                            keywords original_language  \\\n",
       "0  [{\"id\": 1463, \"name\": \"culture clash\"}, {\"id\":...                en   \n",
       "1  [{\"id\": 270, \"name\": \"ocean\"}, {\"id\": 726, \"na...                en   \n",
       "2  [{\"id\": 470, \"name\": \"spy\"}, {\"id\": 818, \"name...                en   \n",
       "3  [{\"id\": 849, \"name\": \"dc comics\"}, {\"id\": 853,...                en   \n",
       "4  [{\"id\": 818, \"name\": \"based on novel\"}, {\"id\":...                en   \n",
       "\n",
       "   popularity                               production_companies  \\\n",
       "0  150.437577  [{\"name\": \"Ingenious Film Partners\", \"id\": 289...   \n",
       "1  139.082615  [{\"name\": \"Walt Disney Pictures\", \"id\": 2}, {\"...   \n",
       "2  107.376788  [{\"name\": \"Columbia Pictures\", \"id\": 5}, {\"nam...   \n",
       "3  112.312950  [{\"name\": \"Legendary Pictures\", \"id\": 923}, {\"...   \n",
       "4   43.926995        [{\"name\": \"Walt Disney Pictures\", \"id\": 2}]   \n",
       "\n",
       "                                production_countries release_date     revenue  \\\n",
       "0  [{\"iso_3166_1\": \"US\", \"name\": \"United States o...   2009-12-10  2787965087   \n",
       "1  [{\"iso_3166_1\": \"US\", \"name\": \"United States o...   2007-05-19   961000000   \n",
       "2  [{\"iso_3166_1\": \"GB\", \"name\": \"United Kingdom\"...   2015-10-26   880674609   \n",
       "3  [{\"iso_3166_1\": \"US\", \"name\": \"United States o...   2012-07-16  1084939099   \n",
       "4  [{\"iso_3166_1\": \"US\", \"name\": \"United States o...   2012-03-07   284139100   \n",
       "\n",
       "   runtime                                   spoken_languages  \\\n",
       "0    162.0  [{\"iso_639_1\": \"en\", \"name\": \"English\"}, {\"iso...   \n",
       "1    169.0           [{\"iso_639_1\": \"en\", \"name\": \"English\"}]   \n",
       "2    148.0  [{\"iso_639_1\": \"fr\", \"name\": \"Fran\\u00e7ais\"},...   \n",
       "3    165.0           [{\"iso_639_1\": \"en\", \"name\": \"English\"}]   \n",
       "4    132.0           [{\"iso_639_1\": \"en\", \"name\": \"English\"}]   \n",
       "\n",
       "                                      title  vote_average  vote_count  \n",
       "0                                    Avatar           7.2       11800  \n",
       "1  Pirates of the Caribbean: At World's End           6.9        4500  \n",
       "2                                   Spectre           6.3        4466  \n",
       "3                     The Dark Knight Rises           7.6        9106  \n",
       "4                               John Carter           6.1        2124  "
      ]
     },
     "execution_count": 45,
     "metadata": {},
     "output_type": "execute_result"
    }
   ],
   "source": [
    "# Load imdb datasets\n",
    "tmdb_movies = pd.read_csv('datasets/tmdb_5000_movies.csv', delimiter=',') \n",
    "tmdb_movies_cast = pd.read_csv('datasets/tmdb_5000_credits.csv', delimiter=',') \n",
    "\n",
    "# Drop some columns and change index\n",
    "tmdb_movies = tmdb_movies.drop(columns=[\"homepage\", \"status\", \"tagline\", \"overview\", \"original_title\"])\n",
    "tmdb_movies.head()"
   ]
  },
  {
   "cell_type": "code",
   "execution_count": 46,
   "metadata": {
    "hidden": true
   },
   "outputs": [
    {
     "data": {
      "text/html": [
       "<div>\n",
       "<style scoped>\n",
       "    .dataframe tbody tr th:only-of-type {\n",
       "        vertical-align: middle;\n",
       "    }\n",
       "\n",
       "    .dataframe tbody tr th {\n",
       "        vertical-align: top;\n",
       "    }\n",
       "\n",
       "    .dataframe thead th {\n",
       "        text-align: right;\n",
       "    }\n",
       "</style>\n",
       "<table border=\"1\" class=\"dataframe\">\n",
       "  <thead>\n",
       "    <tr style=\"text-align: right;\">\n",
       "      <th></th>\n",
       "      <th>movieId</th>\n",
       "      <th>imdbId</th>\n",
       "      <th>tmdbId</th>\n",
       "    </tr>\n",
       "  </thead>\n",
       "  <tbody>\n",
       "    <tr>\n",
       "      <td>0</td>\n",
       "      <td>1</td>\n",
       "      <td>114709</td>\n",
       "      <td>862.0</td>\n",
       "    </tr>\n",
       "    <tr>\n",
       "      <td>1</td>\n",
       "      <td>2</td>\n",
       "      <td>113497</td>\n",
       "      <td>8844.0</td>\n",
       "    </tr>\n",
       "    <tr>\n",
       "      <td>2</td>\n",
       "      <td>3</td>\n",
       "      <td>113228</td>\n",
       "      <td>15602.0</td>\n",
       "    </tr>\n",
       "    <tr>\n",
       "      <td>3</td>\n",
       "      <td>4</td>\n",
       "      <td>114885</td>\n",
       "      <td>31357.0</td>\n",
       "    </tr>\n",
       "    <tr>\n",
       "      <td>4</td>\n",
       "      <td>5</td>\n",
       "      <td>113041</td>\n",
       "      <td>11862.0</td>\n",
       "    </tr>\n",
       "    <tr>\n",
       "      <td>...</td>\n",
       "      <td>...</td>\n",
       "      <td>...</td>\n",
       "      <td>...</td>\n",
       "    </tr>\n",
       "    <tr>\n",
       "      <td>58093</td>\n",
       "      <td>193876</td>\n",
       "      <td>38566</td>\n",
       "      <td>78251.0</td>\n",
       "    </tr>\n",
       "    <tr>\n",
       "      <td>58094</td>\n",
       "      <td>193878</td>\n",
       "      <td>1754787</td>\n",
       "      <td>87558.0</td>\n",
       "    </tr>\n",
       "    <tr>\n",
       "      <td>58095</td>\n",
       "      <td>193880</td>\n",
       "      <td>5847740</td>\n",
       "      <td>422666.0</td>\n",
       "    </tr>\n",
       "    <tr>\n",
       "      <td>58096</td>\n",
       "      <td>193882</td>\n",
       "      <td>4453756</td>\n",
       "      <td>454439.0</td>\n",
       "    </tr>\n",
       "    <tr>\n",
       "      <td>58097</td>\n",
       "      <td>193886</td>\n",
       "      <td>7606620</td>\n",
       "      <td>540871.0</td>\n",
       "    </tr>\n",
       "  </tbody>\n",
       "</table>\n",
       "<p>58098 rows × 3 columns</p>\n",
       "</div>"
      ],
      "text/plain": [
       "       movieId   imdbId    tmdbId\n",
       "0            1   114709     862.0\n",
       "1            2   113497    8844.0\n",
       "2            3   113228   15602.0\n",
       "3            4   114885   31357.0\n",
       "4            5   113041   11862.0\n",
       "...        ...      ...       ...\n",
       "58093   193876    38566   78251.0\n",
       "58094   193878  1754787   87558.0\n",
       "58095   193880  5847740  422666.0\n",
       "58096   193882  4453756  454439.0\n",
       "58097   193886  7606620  540871.0\n",
       "\n",
       "[58098 rows x 3 columns]"
      ]
     },
     "execution_count": 46,
     "metadata": {},
     "output_type": "execute_result"
    }
   ],
   "source": [
    "# Load MovieLens dataset\n",
    "ML_links = pd.read_csv('datasets/ml-latest/links.csv', delimiter=',')\n",
    "#ML_ratings = pd.read_csv('datasets/ml-latest-small/ratings.csv', delimiter=',') \n",
    "ML_links"
   ]
  },
  {
   "cell_type": "markdown",
   "metadata": {
    "hidden": true
   },
   "source": [
    "We can only use the movies that are in the TMDB_5000, ml-latest and ml-100k datasets, "
   ]
  },
  {
   "cell_type": "code",
   "execution_count": 47,
   "metadata": {
    "hidden": true,
    "scrolled": true
   },
   "outputs": [
    {
     "data": {
      "text/html": [
       "<div>\n",
       "<style scoped>\n",
       "    .dataframe tbody tr th:only-of-type {\n",
       "        vertical-align: middle;\n",
       "    }\n",
       "\n",
       "    .dataframe tbody tr th {\n",
       "        vertical-align: top;\n",
       "    }\n",
       "\n",
       "    .dataframe thead th {\n",
       "        text-align: right;\n",
       "    }\n",
       "</style>\n",
       "<table border=\"1\" class=\"dataframe\">\n",
       "  <thead>\n",
       "    <tr style=\"text-align: right;\">\n",
       "      <th></th>\n",
       "      <th>ML-100k-convertId</th>\n",
       "      <th>ML-latestId</th>\n",
       "    </tr>\n",
       "  </thead>\n",
       "  <tbody>\n",
       "    <tr>\n",
       "      <td>0</td>\n",
       "      <td>1</td>\n",
       "      <td>1</td>\n",
       "    </tr>\n",
       "    <tr>\n",
       "      <td>1</td>\n",
       "      <td>2</td>\n",
       "      <td>10</td>\n",
       "    </tr>\n",
       "    <tr>\n",
       "      <td>2</td>\n",
       "      <td>3</td>\n",
       "      <td>18</td>\n",
       "    </tr>\n",
       "    <tr>\n",
       "      <td>3</td>\n",
       "      <td>4</td>\n",
       "      <td>21</td>\n",
       "    </tr>\n",
       "    <tr>\n",
       "      <td>4</td>\n",
       "      <td>5</td>\n",
       "      <td>22</td>\n",
       "    </tr>\n",
       "  </tbody>\n",
       "</table>\n",
       "</div>"
      ],
      "text/plain": [
       "   ML-100k-convertId  ML-latestId\n",
       "0                  1            1\n",
       "1                  2           10\n",
       "2                  3           18\n",
       "3                  4           21\n",
       "4                  5           22"
      ]
     },
     "execution_count": 47,
     "metadata": {},
     "output_type": "execute_result"
    }
   ],
   "source": [
    "# Load links of the movies to use\n",
    "movie_links = pd.read_csv('datasets/ml_links.csv')\n",
    "movie_links.head()"
   ]
  },
  {
   "cell_type": "code",
   "execution_count": 81,
   "metadata": {
    "hidden": true
   },
   "outputs": [
    {
     "data": {
      "text/html": [
       "<div>\n",
       "<style scoped>\n",
       "    .dataframe tbody tr th:only-of-type {\n",
       "        vertical-align: middle;\n",
       "    }\n",
       "\n",
       "    .dataframe tbody tr th {\n",
       "        vertical-align: top;\n",
       "    }\n",
       "\n",
       "    .dataframe thead th {\n",
       "        text-align: right;\n",
       "    }\n",
       "</style>\n",
       "<table border=\"1\" class=\"dataframe\">\n",
       "  <thead>\n",
       "    <tr style=\"text-align: right;\">\n",
       "      <th></th>\n",
       "      <th>budget</th>\n",
       "      <th>genres</th>\n",
       "      <th>id</th>\n",
       "      <th>keywords</th>\n",
       "      <th>original_language</th>\n",
       "      <th>popularity</th>\n",
       "      <th>production_companies</th>\n",
       "      <th>production_countries</th>\n",
       "      <th>release_date</th>\n",
       "      <th>revenue</th>\n",
       "      <th>runtime</th>\n",
       "      <th>spoken_languages</th>\n",
       "      <th>title</th>\n",
       "      <th>vote_average</th>\n",
       "      <th>vote_count</th>\n",
       "      <th>movieId</th>\n",
       "      <th>imdbId</th>\n",
       "      <th>tmdbId</th>\n",
       "      <th>ML-100k-convertId</th>\n",
       "      <th>ML-latestId</th>\n",
       "    </tr>\n",
       "  </thead>\n",
       "  <tbody>\n",
       "    <tr>\n",
       "      <td>0</td>\n",
       "      <td>200000000</td>\n",
       "      <td>[{\"id\": 18, \"name\": \"Drama\"}, {\"id\": 10749, \"n...</td>\n",
       "      <td>597</td>\n",
       "      <td>[{\"id\": 2580, \"name\": \"shipwreck\"}, {\"id\": 298...</td>\n",
       "      <td>en</td>\n",
       "      <td>100.025899</td>\n",
       "      <td>[{\"name\": \"Paramount Pictures\", \"id\": 4}, {\"na...</td>\n",
       "      <td>[{\"iso_3166_1\": \"US\", \"name\": \"United States o...</td>\n",
       "      <td>1997-11-18</td>\n",
       "      <td>1845034188</td>\n",
       "      <td>194.0</td>\n",
       "      <td>[{\"iso_639_1\": \"en\", \"name\": \"English\"}, {\"iso...</td>\n",
       "      <td>Titanic</td>\n",
       "      <td>7.5</td>\n",
       "      <td>7562</td>\n",
       "      <td>1721</td>\n",
       "      <td>120338</td>\n",
       "      <td>597.0</td>\n",
       "      <td>313</td>\n",
       "      <td>1721</td>\n",
       "    </tr>\n",
       "    <tr>\n",
       "      <td>1</td>\n",
       "      <td>175000000</td>\n",
       "      <td>[{\"id\": 12, \"name\": \"Adventure\"}, {\"id\": 28, \"...</td>\n",
       "      <td>9804</td>\n",
       "      <td>[{\"id\": 270, \"name\": \"ocean\"}, {\"id\": 331, \"na...</td>\n",
       "      <td>en</td>\n",
       "      <td>44.640292</td>\n",
       "      <td>[{\"name\": \"Universal Pictures\", \"id\": 33}, {\"n...</td>\n",
       "      <td>[{\"iso_3166_1\": \"US\", \"name\": \"United States o...</td>\n",
       "      <td>1995-07-28</td>\n",
       "      <td>264218220</td>\n",
       "      <td>135.0</td>\n",
       "      <td>[{\"iso_639_1\": \"en\", \"name\": \"English\"}, {\"iso...</td>\n",
       "      <td>Waterworld</td>\n",
       "      <td>5.9</td>\n",
       "      <td>992</td>\n",
       "      <td>208</td>\n",
       "      <td>114898</td>\n",
       "      <td>9804.0</td>\n",
       "      <td>554</td>\n",
       "      <td>208</td>\n",
       "    </tr>\n",
       "    <tr>\n",
       "      <td>2</td>\n",
       "      <td>125000000</td>\n",
       "      <td>[{\"id\": 28, \"name\": \"Action\"}, {\"id\": 80, \"nam...</td>\n",
       "      <td>415</td>\n",
       "      <td>[{\"id\": 848, \"name\": \"double life\"}, {\"id\": 84...</td>\n",
       "      <td>en</td>\n",
       "      <td>50.073575</td>\n",
       "      <td>[{\"name\": \"PolyGram Filmed Entertainment\", \"id...</td>\n",
       "      <td>[{\"iso_3166_1\": \"GB\", \"name\": \"United Kingdom\"...</td>\n",
       "      <td>1997-06-20</td>\n",
       "      <td>238207122</td>\n",
       "      <td>125.0</td>\n",
       "      <td>[{\"iso_639_1\": \"en\", \"name\": \"English\"}]</td>\n",
       "      <td>Batman &amp; Robin</td>\n",
       "      <td>4.2</td>\n",
       "      <td>1418</td>\n",
       "      <td>1562</td>\n",
       "      <td>118688</td>\n",
       "      <td>415.0</td>\n",
       "      <td>254</td>\n",
       "      <td>1562</td>\n",
       "    </tr>\n",
       "    <tr>\n",
       "      <td>3</td>\n",
       "      <td>116000000</td>\n",
       "      <td>[{\"id\": 28, \"name\": \"Action\"}, {\"id\": 12, \"nam...</td>\n",
       "      <td>9619</td>\n",
       "      <td>[{\"id\": 720, \"name\": \"helicopter\"}, {\"id\": 141...</td>\n",
       "      <td>en</td>\n",
       "      <td>16.904440</td>\n",
       "      <td>[{\"name\": \"Universal Pictures\", \"id\": 33}, {\"n...</td>\n",
       "      <td>[{\"iso_3166_1\": \"US\", \"name\": \"United States o...</td>\n",
       "      <td>1997-02-07</td>\n",
       "      <td>178127760</td>\n",
       "      <td>108.0</td>\n",
       "      <td>[{\"iso_639_1\": \"en\", \"name\": \"English\"}]</td>\n",
       "      <td>Dante's Peak</td>\n",
       "      <td>5.7</td>\n",
       "      <td>428</td>\n",
       "      <td>1438</td>\n",
       "      <td>118928</td>\n",
       "      <td>9619.0</td>\n",
       "      <td>323</td>\n",
       "      <td>1438</td>\n",
       "    </tr>\n",
       "    <tr>\n",
       "      <td>4</td>\n",
       "      <td>110000000</td>\n",
       "      <td>[{\"id\": 12, \"name\": \"Adventure\"}, {\"id\": 28, \"...</td>\n",
       "      <td>714</td>\n",
       "      <td>[{\"id\": 212, \"name\": \"london england\"}, {\"id\":...</td>\n",
       "      <td>en</td>\n",
       "      <td>42.887121</td>\n",
       "      <td>[{\"name\": \"Eon Productions\", \"id\": 7576}]</td>\n",
       "      <td>[{\"iso_3166_1\": \"GB\", \"name\": \"United Kingdom\"...</td>\n",
       "      <td>1997-12-11</td>\n",
       "      <td>333011068</td>\n",
       "      <td>119.0</td>\n",
       "      <td>[{\"iso_639_1\": \"de\", \"name\": \"Deutsch\"}, {\"iso...</td>\n",
       "      <td>Tomorrow Never Dies</td>\n",
       "      <td>6.0</td>\n",
       "      <td>925</td>\n",
       "      <td>1722</td>\n",
       "      <td>120347</td>\n",
       "      <td>714.0</td>\n",
       "      <td>751</td>\n",
       "      <td>1722</td>\n",
       "    </tr>\n",
       "  </tbody>\n",
       "</table>\n",
       "</div>"
      ],
      "text/plain": [
       "      budget                                             genres    id  \\\n",
       "0  200000000  [{\"id\": 18, \"name\": \"Drama\"}, {\"id\": 10749, \"n...   597   \n",
       "1  175000000  [{\"id\": 12, \"name\": \"Adventure\"}, {\"id\": 28, \"...  9804   \n",
       "2  125000000  [{\"id\": 28, \"name\": \"Action\"}, {\"id\": 80, \"nam...   415   \n",
       "3  116000000  [{\"id\": 28, \"name\": \"Action\"}, {\"id\": 12, \"nam...  9619   \n",
       "4  110000000  [{\"id\": 12, \"name\": \"Adventure\"}, {\"id\": 28, \"...   714   \n",
       "\n",
       "                                            keywords original_language  \\\n",
       "0  [{\"id\": 2580, \"name\": \"shipwreck\"}, {\"id\": 298...                en   \n",
       "1  [{\"id\": 270, \"name\": \"ocean\"}, {\"id\": 331, \"na...                en   \n",
       "2  [{\"id\": 848, \"name\": \"double life\"}, {\"id\": 84...                en   \n",
       "3  [{\"id\": 720, \"name\": \"helicopter\"}, {\"id\": 141...                en   \n",
       "4  [{\"id\": 212, \"name\": \"london england\"}, {\"id\":...                en   \n",
       "\n",
       "   popularity                               production_companies  \\\n",
       "0  100.025899  [{\"name\": \"Paramount Pictures\", \"id\": 4}, {\"na...   \n",
       "1   44.640292  [{\"name\": \"Universal Pictures\", \"id\": 33}, {\"n...   \n",
       "2   50.073575  [{\"name\": \"PolyGram Filmed Entertainment\", \"id...   \n",
       "3   16.904440  [{\"name\": \"Universal Pictures\", \"id\": 33}, {\"n...   \n",
       "4   42.887121          [{\"name\": \"Eon Productions\", \"id\": 7576}]   \n",
       "\n",
       "                                production_countries release_date     revenue  \\\n",
       "0  [{\"iso_3166_1\": \"US\", \"name\": \"United States o...   1997-11-18  1845034188   \n",
       "1  [{\"iso_3166_1\": \"US\", \"name\": \"United States o...   1995-07-28   264218220   \n",
       "2  [{\"iso_3166_1\": \"GB\", \"name\": \"United Kingdom\"...   1997-06-20   238207122   \n",
       "3  [{\"iso_3166_1\": \"US\", \"name\": \"United States o...   1997-02-07   178127760   \n",
       "4  [{\"iso_3166_1\": \"GB\", \"name\": \"United Kingdom\"...   1997-12-11   333011068   \n",
       "\n",
       "   runtime                                   spoken_languages  \\\n",
       "0    194.0  [{\"iso_639_1\": \"en\", \"name\": \"English\"}, {\"iso...   \n",
       "1    135.0  [{\"iso_639_1\": \"en\", \"name\": \"English\"}, {\"iso...   \n",
       "2    125.0           [{\"iso_639_1\": \"en\", \"name\": \"English\"}]   \n",
       "3    108.0           [{\"iso_639_1\": \"en\", \"name\": \"English\"}]   \n",
       "4    119.0  [{\"iso_639_1\": \"de\", \"name\": \"Deutsch\"}, {\"iso...   \n",
       "\n",
       "                 title  vote_average  vote_count  movieId  imdbId  tmdbId  \\\n",
       "0              Titanic           7.5        7562     1721  120338   597.0   \n",
       "1           Waterworld           5.9         992      208  114898  9804.0   \n",
       "2       Batman & Robin           4.2        1418     1562  118688   415.0   \n",
       "3         Dante's Peak           5.7         428     1438  118928  9619.0   \n",
       "4  Tomorrow Never Dies           6.0         925     1722  120347   714.0   \n",
       "\n",
       "   ML-100k-convertId  ML-latestId  \n",
       "0                313         1721  \n",
       "1                554          208  \n",
       "2                254         1562  \n",
       "3                323         1438  \n",
       "4                751         1722  "
      ]
     },
     "execution_count": 81,
     "metadata": {},
     "output_type": "execute_result"
    }
   ],
   "source": [
    "# Join ML_links and the total links\n",
    "movies = ML_links.merge(movie_links, left_on=\"movieId\", right_on=\"ML-latestId\")\n",
    "# Create a merge of the movies in tmdb 5000 and movielens\n",
    "movies = tmdb_movies.merge(movies, left_on=\"id\", right_on=\"tmdbId\")\n",
    "movies.head()"
   ]
  },
  {
   "cell_type": "code",
   "execution_count": 82,
   "metadata": {
    "hidden": true
   },
   "outputs": [],
   "source": [
    "# id is tmdbId and ML-latestId is movieId\n",
    "# From now on use tmdbId as the real ID\n",
    "movies.drop(columns=[\"tmdbId\", \"movieId\"], inplace=True)\n",
    "movies.to_csv(\"datasets/final_movies.csv\", index=False)"
   ]
  },
  {
   "cell_type": "code",
   "execution_count": 57,
   "metadata": {
    "hidden": true
   },
   "outputs": [
    {
     "data": {
      "text/plain": [
       "(480, 18)"
      ]
     },
     "execution_count": 57,
     "metadata": {},
     "output_type": "execute_result"
    }
   ],
   "source": [
    "movies.shape"
   ]
  },
  {
   "cell_type": "markdown",
   "metadata": {
    "hidden": true
   },
   "source": [
    "The combined dataset of the ML_latest, ML_100k and tmdb contains 480 movies"
   ]
  },
  {
   "cell_type": "markdown",
   "metadata": {},
   "source": [
    "## Feature networks"
   ]
  },
  {
   "cell_type": "markdown",
   "metadata": {},
   "source": [
    "There are many possible networds we could create from the features. \n",
    "\n",
    "We will explore and possibly make the following graphs:\n",
    "* genres\n",
    "* keywords\n",
    "* revenue & budget\n",
    "* language\n",
    "* production company\n"
   ]
  },
  {
   "cell_type": "code",
   "execution_count": 147,
   "metadata": {},
   "outputs": [],
   "source": [
    "def strdict_to_column(strdict, name):\n",
    "    \"\"\"\n",
    "    Converts a dict (in string format) to a list of the values\n",
    "    e.g. [{\"id\": 18, \"name\": \"Drama\"}, {\"id\": 10749, \"Action\"}] -> [\"Drama\", \"Action\"]\n",
    "    \"\"\"\n",
    "    list_dicts = strdict.apply(lambda x: ast.literal_eval(x))\n",
    "    # Convert list of dicts to list of keywords/genres\n",
    "    _list = list_dicts.apply(lambda x: [d['name'] for d in x ])\n",
    "    df = pd.DataFrame(_list)\n",
    "    df = df.explode(name)\n",
    "    df['count'] = 1\n",
    "    # Pivot so 'name' becomes columns\n",
    "    df = df.pivot(columns=name, values='count').fillna(0)\n",
    "    return df"
   ]
  },
  {
   "cell_type": "code",
   "execution_count": 365,
   "metadata": {},
   "outputs": [],
   "source": []
  },
  {
   "cell_type": "code",
   "execution_count": 148,
   "metadata": {},
   "outputs": [],
   "source": [
    "def distance_to_weight():\n",
    "    # Let us use the Gaussian function\n",
    "    kernel_width = distances.mean()\n",
    "    weights_list = np.exp(-distances**2 / kernel_width**2)"
   ]
  },
  {
   "cell_type": "code",
   "execution_count": 149,
   "metadata": {},
   "outputs": [],
   "source": [
    "def epsilon_similarity_graph(distances: np.ndarray, alpha=1, epsilon=0):\n",
    "    \"\"\" X (n x n): distance matrix\n",
    "        alpha (float): width of the kernel\n",
    "        epsilon (float): threshold\n",
    "        Return:\n",
    "        adjacency (n x n ndarray): adjacency matrix of the graph.\n",
    "    \"\"\"\n",
    "    X = distances.copy()\n",
    "    X[X > epsilon] = np.inf\n",
    "    adjacency = np.exp( - X ** 2 / alpha)\n",
    "    np.fill_diagonal(adjacency, 0)\n",
    "    return adjacency"
   ]
  },
  {
   "cell_type": "markdown",
   "metadata": {},
   "source": [
    "### Genre network"
   ]
  },
  {
   "cell_type": "markdown",
   "metadata": {},
   "source": [
    "Here, we use the item dataset of ml-100k-convert"
   ]
  },
  {
   "cell_type": "code",
   "execution_count": 251,
   "metadata": {
    "scrolled": true
   },
   "outputs": [],
   "source": [
    "movie_genres = movies[\"genres\"]\n",
    "movie_genres_matrix = strdict_to_column(movie_genres, \"genres\")\n",
    "genres = list(movie_genres_matrix.columns)"
   ]
  },
  {
   "cell_type": "code",
   "execution_count": 333,
   "metadata": {},
   "outputs": [
    {
     "data": {
      "text/plain": [
       "19"
      ]
     },
     "execution_count": 333,
     "metadata": {},
     "output_type": "execute_result"
    }
   ],
   "source": [
    "len(genres)"
   ]
  },
  {
   "cell_type": "code",
   "execution_count": 151,
   "metadata": {},
   "outputs": [
    {
     "data": {
      "text/html": [
       "<div>\n",
       "<style scoped>\n",
       "    .dataframe tbody tr th:only-of-type {\n",
       "        vertical-align: middle;\n",
       "    }\n",
       "\n",
       "    .dataframe tbody tr th {\n",
       "        vertical-align: top;\n",
       "    }\n",
       "\n",
       "    .dataframe thead th {\n",
       "        text-align: right;\n",
       "    }\n",
       "</style>\n",
       "<table border=\"1\" class=\"dataframe\">\n",
       "  <thead>\n",
       "    <tr style=\"text-align: right;\">\n",
       "      <th>genres</th>\n",
       "      <th>Action</th>\n",
       "      <th>Adventure</th>\n",
       "      <th>Animation</th>\n",
       "      <th>Comedy</th>\n",
       "      <th>Crime</th>\n",
       "      <th>Documentary</th>\n",
       "      <th>Drama</th>\n",
       "      <th>Family</th>\n",
       "      <th>Fantasy</th>\n",
       "      <th>Foreign</th>\n",
       "      <th>History</th>\n",
       "      <th>Horror</th>\n",
       "      <th>Music</th>\n",
       "      <th>Mystery</th>\n",
       "      <th>Romance</th>\n",
       "      <th>Science Fiction</th>\n",
       "      <th>Thriller</th>\n",
       "      <th>War</th>\n",
       "      <th>Western</th>\n",
       "    </tr>\n",
       "  </thead>\n",
       "  <tbody>\n",
       "    <tr>\n",
       "      <td>0</td>\n",
       "      <td>0.0</td>\n",
       "      <td>0.0</td>\n",
       "      <td>1.0</td>\n",
       "      <td>1.0</td>\n",
       "      <td>0.0</td>\n",
       "      <td>0.0</td>\n",
       "      <td>0.0</td>\n",
       "      <td>1.0</td>\n",
       "      <td>0.0</td>\n",
       "      <td>0.0</td>\n",
       "      <td>0.0</td>\n",
       "      <td>0.0</td>\n",
       "      <td>0.0</td>\n",
       "      <td>0.0</td>\n",
       "      <td>0.0</td>\n",
       "      <td>0.0</td>\n",
       "      <td>0.0</td>\n",
       "      <td>0.0</td>\n",
       "      <td>0.0</td>\n",
       "    </tr>\n",
       "    <tr>\n",
       "      <td>1</td>\n",
       "      <td>1.0</td>\n",
       "      <td>1.0</td>\n",
       "      <td>0.0</td>\n",
       "      <td>0.0</td>\n",
       "      <td>0.0</td>\n",
       "      <td>0.0</td>\n",
       "      <td>0.0</td>\n",
       "      <td>0.0</td>\n",
       "      <td>0.0</td>\n",
       "      <td>0.0</td>\n",
       "      <td>0.0</td>\n",
       "      <td>0.0</td>\n",
       "      <td>0.0</td>\n",
       "      <td>0.0</td>\n",
       "      <td>0.0</td>\n",
       "      <td>0.0</td>\n",
       "      <td>1.0</td>\n",
       "      <td>0.0</td>\n",
       "      <td>0.0</td>\n",
       "    </tr>\n",
       "    <tr>\n",
       "      <td>2</td>\n",
       "      <td>0.0</td>\n",
       "      <td>0.0</td>\n",
       "      <td>0.0</td>\n",
       "      <td>1.0</td>\n",
       "      <td>1.0</td>\n",
       "      <td>0.0</td>\n",
       "      <td>0.0</td>\n",
       "      <td>0.0</td>\n",
       "      <td>0.0</td>\n",
       "      <td>0.0</td>\n",
       "      <td>0.0</td>\n",
       "      <td>0.0</td>\n",
       "      <td>0.0</td>\n",
       "      <td>0.0</td>\n",
       "      <td>0.0</td>\n",
       "      <td>0.0</td>\n",
       "      <td>0.0</td>\n",
       "      <td>0.0</td>\n",
       "      <td>0.0</td>\n",
       "    </tr>\n",
       "    <tr>\n",
       "      <td>3</td>\n",
       "      <td>0.0</td>\n",
       "      <td>0.0</td>\n",
       "      <td>0.0</td>\n",
       "      <td>1.0</td>\n",
       "      <td>1.0</td>\n",
       "      <td>0.0</td>\n",
       "      <td>0.0</td>\n",
       "      <td>0.0</td>\n",
       "      <td>0.0</td>\n",
       "      <td>0.0</td>\n",
       "      <td>0.0</td>\n",
       "      <td>0.0</td>\n",
       "      <td>0.0</td>\n",
       "      <td>0.0</td>\n",
       "      <td>0.0</td>\n",
       "      <td>0.0</td>\n",
       "      <td>1.0</td>\n",
       "      <td>0.0</td>\n",
       "      <td>0.0</td>\n",
       "    </tr>\n",
       "    <tr>\n",
       "      <td>4</td>\n",
       "      <td>0.0</td>\n",
       "      <td>0.0</td>\n",
       "      <td>0.0</td>\n",
       "      <td>0.0</td>\n",
       "      <td>0.0</td>\n",
       "      <td>0.0</td>\n",
       "      <td>1.0</td>\n",
       "      <td>0.0</td>\n",
       "      <td>0.0</td>\n",
       "      <td>0.0</td>\n",
       "      <td>0.0</td>\n",
       "      <td>0.0</td>\n",
       "      <td>0.0</td>\n",
       "      <td>0.0</td>\n",
       "      <td>0.0</td>\n",
       "      <td>0.0</td>\n",
       "      <td>1.0</td>\n",
       "      <td>0.0</td>\n",
       "      <td>0.0</td>\n",
       "    </tr>\n",
       "  </tbody>\n",
       "</table>\n",
       "</div>"
      ],
      "text/plain": [
       "genres  Action  Adventure  Animation  Comedy  Crime  Documentary  Drama  \\\n",
       "0          0.0        0.0        1.0     1.0    0.0          0.0    0.0   \n",
       "1          1.0        1.0        0.0     0.0    0.0          0.0    0.0   \n",
       "2          0.0        0.0        0.0     1.0    1.0          0.0    0.0   \n",
       "3          0.0        0.0        0.0     1.0    1.0          0.0    0.0   \n",
       "4          0.0        0.0        0.0     0.0    0.0          0.0    1.0   \n",
       "\n",
       "genres  Family  Fantasy  Foreign  History  Horror  Music  Mystery  Romance  \\\n",
       "0          1.0      0.0      0.0      0.0     0.0    0.0      0.0      0.0   \n",
       "1          0.0      0.0      0.0      0.0     0.0    0.0      0.0      0.0   \n",
       "2          0.0      0.0      0.0      0.0     0.0    0.0      0.0      0.0   \n",
       "3          0.0      0.0      0.0      0.0     0.0    0.0      0.0      0.0   \n",
       "4          0.0      0.0      0.0      0.0     0.0    0.0      0.0      0.0   \n",
       "\n",
       "genres  Science Fiction  Thriller  War  Western  \n",
       "0                   0.0       0.0  0.0      0.0  \n",
       "1                   0.0       1.0  0.0      0.0  \n",
       "2                   0.0       0.0  0.0      0.0  \n",
       "3                   0.0       1.0  0.0      0.0  \n",
       "4                   0.0       1.0  0.0      0.0  "
      ]
     },
     "execution_count": 151,
     "metadata": {},
     "output_type": "execute_result"
    }
   ],
   "source": [
    "movie_genres_matrix.head()"
   ]
  },
  {
   "cell_type": "code",
   "execution_count": 252,
   "metadata": {},
   "outputs": [
    {
     "data": {
      "image/png": "[encoded data removed]",
      "text/plain": [
       "<Figure size 432x288 with 1 Axes>"
      ]
     },
     "metadata": {
      "needs_background": "light"
     },
     "output_type": "display_data"
    }
   ],
   "source": [
    "# 1 means completely similar\n",
    "genre_distances = pdist(movie_genres_matrix, 'hamming')\n",
    "plt.hist(genre_distances)\n",
    "plt.title('Distribution of weights')\n",
    "plt.show()"
   ]
  },
  {
   "cell_type": "code",
   "execution_count": 253,
   "metadata": {},
   "outputs": [
    {
     "data": {
      "text/plain": [
       "{0.0: 1593,\n",
       " 0.05263157894736842: 6433,\n",
       " 0.10526315789473684: 13624,\n",
       " 0.15789473684210525: 21439,\n",
       " 0.21052631578947367: 26272,\n",
       " 0.2631578947368421: 23458,\n",
       " 0.3157894736842105: 14226,\n",
       " 0.3684210526315789: 5906,\n",
       " 0.42105263157894735: 1637,\n",
       " 0.47368421052631576: 326,\n",
       " 0.5263157894736842: 44,\n",
       " 0.5789473684210527: 2}"
      ]
     },
     "execution_count": 253,
     "metadata": {},
     "output_type": "execute_result"
    }
   ],
   "source": [
    "unique, counts = np.unique(genre_distances, return_counts=True)\n",
    "dict(zip(unique, counts))"
   ]
  },
  {
   "cell_type": "code",
   "execution_count": 571,
   "metadata": {
    "scrolled": true
   },
   "outputs": [
    {
     "data": {
      "image/png": "[encoded data removed]",
      "text/plain": [
       "<Figure size 432x288 with 1 Axes>"
      ]
     },
     "metadata": {
      "needs_background": "light"
     },
     "output_type": "display_data"
    }
   ],
   "source": [
    "# Connected when all genres the same or one difference\n",
    "genre_adjacency = squareform(np.where(genre_distances<0.10,1,0))\n",
    "plt.spy(genre_adjacency)\n",
    "plt.show()"
   ]
  },
  {
   "cell_type": "code",
   "execution_count": 586,
   "metadata": {},
   "outputs": [
    {
     "data": {
      "image/png": "[encoded data removed]",
      "text/plain": [
       "<Figure size 432x288 with 1 Axes>"
      ]
     },
     "metadata": {
      "needs_background": "light"
     },
     "output_type": "display_data"
    }
   ],
   "source": [
    "alpha = 0.25\n",
    "epsilon = 0.15\n",
    "genre_adjacency = epsilon_similarity_graph(squareform(genre_distances), alpha=alpha, epsilon=epsilon)\n",
    "plt.spy(genre_adjacency)\n",
    "plt.show()"
   ]
  },
  {
   "cell_type": "code",
   "execution_count": 587,
   "metadata": {},
   "outputs": [],
   "source": [
    "np.savetxt(GENERATED_PATH+'movie_genre_adj.csv', genre_adjacency, delimiter=',')"
   ]
  },
  {
   "cell_type": "code",
   "execution_count": 155,
   "metadata": {},
   "outputs": [
    {
     "data": {
      "text/plain": [
       "0           {0: 'Animation-Comedy-Family'}\n",
       "1         {0: 'Action-Adventure-Thriller'}\n",
       "2                      {0: 'Comedy-Crime'}\n",
       "3             {0: 'Comedy-Crime-Thriller'}\n",
       "4                    {0: 'Drama-Thriller'}\n",
       "                      ...                 \n",
       "475           {0: 'Action-Family-Fantasy'}\n",
       "476    {0: 'Crime-Drama-Mystery-Thriller'}\n",
       "477                          {0: 'Comedy'}\n",
       "478                    {0: 'Comedy-Crime'}\n",
       "479    {0: 'Comedy-Drama-Fantasy-Romance'}\n",
       "Name: label, Length: 480, dtype: object"
      ]
     },
     "execution_count": 155,
     "metadata": {},
     "output_type": "execute_result"
    }
   ],
   "source": [
    "# Add labels for visualisation in Gephi\n",
    "movie_genres_matrix['label'] = movie_genres_matrix.apply(lambda x: [genre for genre in genres if x[genre] != 0], axis=1)\n",
    "movie_genres_matrix['label'] = movie_genres_matrix.apply(lambda x: {0: '-'.join(x['label'])}, axis=1)\n",
    "movie_genres_matrix['label']"
   ]
  },
  {
   "cell_type": "code",
   "execution_count": 156,
   "metadata": {},
   "outputs": [],
   "source": [
    "# Export for use in Gephi\n",
    "graph = nx.from_numpy_array(genre_adjacency)\n",
    "nx.set_node_attributes(graph, movie_genres_matrix['label'])\n",
    "nx.write_gexf(graph, GRAPH_PATH+'movie_genres.gexf')"
   ]
  },
  {
   "cell_type": "markdown",
   "metadata": {},
   "source": [
    "### Keywords network"
   ]
  },
  {
   "cell_type": "code",
   "execution_count": 629,
   "metadata": {},
   "outputs": [],
   "source": [
    "def strdict_to_column_keywords(strdict, name):\n",
    "    \"\"\"\n",
    "    Converts a dict (in string format) to a list of the values\n",
    "    e.g. [{\"id\": 18, \"name\": \"Drama\"}, {\"id\": 10749, \"Action\"}] -> [\"Drama\", \"Action\"]\n",
    "    \"\"\"\n",
    "    list_dicts = movie_keywords.apply(lambda x: ast.literal_eval(x))\n",
    "    # Convert list of dicts to list of keywords/genres\n",
    "    _list = list_dicts.apply(lambda x: [d['name'] for d in x ])\n",
    "    df = pd.DataFrame(_list)\n",
    "    df = df.explode(name)\n",
    "    # Keep only first word of index\n",
    "    df[name] = df.apply(lambda x: str(x[name]).split()[0], axis=1)\n",
    "    df['count'] = 1\n",
    "    df = df.reset_index()\n",
    "    df = df.drop_duplicates()\n",
    "    # Pivot so 'name' becomes columns\n",
    "    df = df.pivot(index='index', columns=name, values='count').fillna(0)\n",
    "    return df"
   ]
  },
  {
   "cell_type": "code",
   "execution_count": 630,
   "metadata": {
    "scrolled": true
   },
   "outputs": [],
   "source": [
    "movie_keywords = movies[\"keywords\"]\n",
    "movie_keywords_matrix = strdict_to_column_keywords(movie_keywords, \"keywords\")\n",
    "keywords = list(movie_keywords_matrix.columns)"
   ]
  },
  {
   "cell_type": "code",
   "execution_count": 631,
   "metadata": {},
   "outputs": [
    {
     "data": {
      "text/html": [
       "<div>\n",
       "<style scoped>\n",
       "    .dataframe tbody tr th:only-of-type {\n",
       "        vertical-align: middle;\n",
       "    }\n",
       "\n",
       "    .dataframe tbody tr th {\n",
       "        vertical-align: top;\n",
       "    }\n",
       "\n",
       "    .dataframe thead th {\n",
       "        text-align: right;\n",
       "    }\n",
       "</style>\n",
       "<table border=\"1\" class=\"dataframe\">\n",
       "  <thead>\n",
       "    <tr style=\"text-align: right;\">\n",
       "      <th>keywords</th>\n",
       "      <th>15th</th>\n",
       "      <th>17th</th>\n",
       "      <th>18th</th>\n",
       "      <th>1910s</th>\n",
       "      <th>1930s</th>\n",
       "      <th>1940s</th>\n",
       "      <th>1950s</th>\n",
       "      <th>1960s</th>\n",
       "      <th>1970s</th>\n",
       "      <th>1990s</th>\n",
       "      <th>...</th>\n",
       "      <th>wrong</th>\n",
       "      <th>wrongful</th>\n",
       "      <th>wyatt</th>\n",
       "      <th>wyoming</th>\n",
       "      <th>x-ray</th>\n",
       "      <th>xenomorph</th>\n",
       "      <th>yellow</th>\n",
       "      <th>young</th>\n",
       "      <th>yuppie</th>\n",
       "      <th>zombie</th>\n",
       "    </tr>\n",
       "    <tr>\n",
       "      <th>index</th>\n",
       "      <th></th>\n",
       "      <th></th>\n",
       "      <th></th>\n",
       "      <th></th>\n",
       "      <th></th>\n",
       "      <th></th>\n",
       "      <th></th>\n",
       "      <th></th>\n",
       "      <th></th>\n",
       "      <th></th>\n",
       "      <th></th>\n",
       "      <th></th>\n",
       "      <th></th>\n",
       "      <th></th>\n",
       "      <th></th>\n",
       "      <th></th>\n",
       "      <th></th>\n",
       "      <th></th>\n",
       "      <th></th>\n",
       "      <th></th>\n",
       "      <th></th>\n",
       "    </tr>\n",
       "  </thead>\n",
       "  <tbody>\n",
       "    <tr>\n",
       "      <td>0</td>\n",
       "      <td>0.0</td>\n",
       "      <td>0.0</td>\n",
       "      <td>0.0</td>\n",
       "      <td>0.0</td>\n",
       "      <td>0.0</td>\n",
       "      <td>0.0</td>\n",
       "      <td>0.0</td>\n",
       "      <td>0.0</td>\n",
       "      <td>0.0</td>\n",
       "      <td>0.0</td>\n",
       "      <td>...</td>\n",
       "      <td>0.0</td>\n",
       "      <td>0.0</td>\n",
       "      <td>0.0</td>\n",
       "      <td>0.0</td>\n",
       "      <td>0.0</td>\n",
       "      <td>0.0</td>\n",
       "      <td>0.0</td>\n",
       "      <td>0.0</td>\n",
       "      <td>0.0</td>\n",
       "      <td>0.0</td>\n",
       "    </tr>\n",
       "    <tr>\n",
       "      <td>1</td>\n",
       "      <td>0.0</td>\n",
       "      <td>0.0</td>\n",
       "      <td>0.0</td>\n",
       "      <td>0.0</td>\n",
       "      <td>0.0</td>\n",
       "      <td>0.0</td>\n",
       "      <td>0.0</td>\n",
       "      <td>0.0</td>\n",
       "      <td>0.0</td>\n",
       "      <td>0.0</td>\n",
       "      <td>...</td>\n",
       "      <td>0.0</td>\n",
       "      <td>0.0</td>\n",
       "      <td>0.0</td>\n",
       "      <td>0.0</td>\n",
       "      <td>0.0</td>\n",
       "      <td>0.0</td>\n",
       "      <td>0.0</td>\n",
       "      <td>0.0</td>\n",
       "      <td>0.0</td>\n",
       "      <td>0.0</td>\n",
       "    </tr>\n",
       "    <tr>\n",
       "      <td>2</td>\n",
       "      <td>0.0</td>\n",
       "      <td>0.0</td>\n",
       "      <td>0.0</td>\n",
       "      <td>0.0</td>\n",
       "      <td>0.0</td>\n",
       "      <td>0.0</td>\n",
       "      <td>0.0</td>\n",
       "      <td>0.0</td>\n",
       "      <td>0.0</td>\n",
       "      <td>0.0</td>\n",
       "      <td>...</td>\n",
       "      <td>0.0</td>\n",
       "      <td>0.0</td>\n",
       "      <td>0.0</td>\n",
       "      <td>0.0</td>\n",
       "      <td>0.0</td>\n",
       "      <td>0.0</td>\n",
       "      <td>0.0</td>\n",
       "      <td>0.0</td>\n",
       "      <td>0.0</td>\n",
       "      <td>0.0</td>\n",
       "    </tr>\n",
       "    <tr>\n",
       "      <td>3</td>\n",
       "      <td>0.0</td>\n",
       "      <td>0.0</td>\n",
       "      <td>0.0</td>\n",
       "      <td>0.0</td>\n",
       "      <td>0.0</td>\n",
       "      <td>0.0</td>\n",
       "      <td>0.0</td>\n",
       "      <td>0.0</td>\n",
       "      <td>0.0</td>\n",
       "      <td>0.0</td>\n",
       "      <td>...</td>\n",
       "      <td>0.0</td>\n",
       "      <td>0.0</td>\n",
       "      <td>0.0</td>\n",
       "      <td>0.0</td>\n",
       "      <td>0.0</td>\n",
       "      <td>0.0</td>\n",
       "      <td>0.0</td>\n",
       "      <td>0.0</td>\n",
       "      <td>0.0</td>\n",
       "      <td>0.0</td>\n",
       "    </tr>\n",
       "    <tr>\n",
       "      <td>4</td>\n",
       "      <td>0.0</td>\n",
       "      <td>0.0</td>\n",
       "      <td>0.0</td>\n",
       "      <td>0.0</td>\n",
       "      <td>0.0</td>\n",
       "      <td>0.0</td>\n",
       "      <td>0.0</td>\n",
       "      <td>0.0</td>\n",
       "      <td>0.0</td>\n",
       "      <td>0.0</td>\n",
       "      <td>...</td>\n",
       "      <td>0.0</td>\n",
       "      <td>0.0</td>\n",
       "      <td>0.0</td>\n",
       "      <td>0.0</td>\n",
       "      <td>0.0</td>\n",
       "      <td>0.0</td>\n",
       "      <td>0.0</td>\n",
       "      <td>0.0</td>\n",
       "      <td>0.0</td>\n",
       "      <td>0.0</td>\n",
       "    </tr>\n",
       "    <tr>\n",
       "      <td>...</td>\n",
       "      <td>...</td>\n",
       "      <td>...</td>\n",
       "      <td>...</td>\n",
       "      <td>...</td>\n",
       "      <td>...</td>\n",
       "      <td>...</td>\n",
       "      <td>...</td>\n",
       "      <td>...</td>\n",
       "      <td>...</td>\n",
       "      <td>...</td>\n",
       "      <td>...</td>\n",
       "      <td>...</td>\n",
       "      <td>...</td>\n",
       "      <td>...</td>\n",
       "      <td>...</td>\n",
       "      <td>...</td>\n",
       "      <td>...</td>\n",
       "      <td>...</td>\n",
       "      <td>...</td>\n",
       "      <td>...</td>\n",
       "      <td>...</td>\n",
       "    </tr>\n",
       "    <tr>\n",
       "      <td>475</td>\n",
       "      <td>0.0</td>\n",
       "      <td>0.0</td>\n",
       "      <td>0.0</td>\n",
       "      <td>0.0</td>\n",
       "      <td>0.0</td>\n",
       "      <td>0.0</td>\n",
       "      <td>0.0</td>\n",
       "      <td>0.0</td>\n",
       "      <td>0.0</td>\n",
       "      <td>0.0</td>\n",
       "      <td>...</td>\n",
       "      <td>0.0</td>\n",
       "      <td>0.0</td>\n",
       "      <td>0.0</td>\n",
       "      <td>0.0</td>\n",
       "      <td>0.0</td>\n",
       "      <td>0.0</td>\n",
       "      <td>0.0</td>\n",
       "      <td>0.0</td>\n",
       "      <td>0.0</td>\n",
       "      <td>0.0</td>\n",
       "    </tr>\n",
       "    <tr>\n",
       "      <td>476</td>\n",
       "      <td>0.0</td>\n",
       "      <td>0.0</td>\n",
       "      <td>0.0</td>\n",
       "      <td>0.0</td>\n",
       "      <td>0.0</td>\n",
       "      <td>0.0</td>\n",
       "      <td>0.0</td>\n",
       "      <td>0.0</td>\n",
       "      <td>0.0</td>\n",
       "      <td>0.0</td>\n",
       "      <td>...</td>\n",
       "      <td>0.0</td>\n",
       "      <td>0.0</td>\n",
       "      <td>0.0</td>\n",
       "      <td>0.0</td>\n",
       "      <td>0.0</td>\n",
       "      <td>0.0</td>\n",
       "      <td>0.0</td>\n",
       "      <td>0.0</td>\n",
       "      <td>0.0</td>\n",
       "      <td>0.0</td>\n",
       "    </tr>\n",
       "    <tr>\n",
       "      <td>477</td>\n",
       "      <td>0.0</td>\n",
       "      <td>0.0</td>\n",
       "      <td>0.0</td>\n",
       "      <td>0.0</td>\n",
       "      <td>0.0</td>\n",
       "      <td>0.0</td>\n",
       "      <td>0.0</td>\n",
       "      <td>0.0</td>\n",
       "      <td>0.0</td>\n",
       "      <td>0.0</td>\n",
       "      <td>...</td>\n",
       "      <td>0.0</td>\n",
       "      <td>0.0</td>\n",
       "      <td>0.0</td>\n",
       "      <td>0.0</td>\n",
       "      <td>0.0</td>\n",
       "      <td>0.0</td>\n",
       "      <td>0.0</td>\n",
       "      <td>0.0</td>\n",
       "      <td>0.0</td>\n",
       "      <td>0.0</td>\n",
       "    </tr>\n",
       "    <tr>\n",
       "      <td>478</td>\n",
       "      <td>0.0</td>\n",
       "      <td>0.0</td>\n",
       "      <td>0.0</td>\n",
       "      <td>0.0</td>\n",
       "      <td>0.0</td>\n",
       "      <td>0.0</td>\n",
       "      <td>0.0</td>\n",
       "      <td>0.0</td>\n",
       "      <td>0.0</td>\n",
       "      <td>0.0</td>\n",
       "      <td>...</td>\n",
       "      <td>0.0</td>\n",
       "      <td>0.0</td>\n",
       "      <td>0.0</td>\n",
       "      <td>0.0</td>\n",
       "      <td>0.0</td>\n",
       "      <td>0.0</td>\n",
       "      <td>0.0</td>\n",
       "      <td>0.0</td>\n",
       "      <td>0.0</td>\n",
       "      <td>0.0</td>\n",
       "    </tr>\n",
       "    <tr>\n",
       "      <td>479</td>\n",
       "      <td>0.0</td>\n",
       "      <td>0.0</td>\n",
       "      <td>0.0</td>\n",
       "      <td>0.0</td>\n",
       "      <td>0.0</td>\n",
       "      <td>0.0</td>\n",
       "      <td>0.0</td>\n",
       "      <td>0.0</td>\n",
       "      <td>0.0</td>\n",
       "      <td>0.0</td>\n",
       "      <td>...</td>\n",
       "      <td>0.0</td>\n",
       "      <td>0.0</td>\n",
       "      <td>0.0</td>\n",
       "      <td>0.0</td>\n",
       "      <td>0.0</td>\n",
       "      <td>0.0</td>\n",
       "      <td>0.0</td>\n",
       "      <td>0.0</td>\n",
       "      <td>0.0</td>\n",
       "      <td>0.0</td>\n",
       "    </tr>\n",
       "  </tbody>\n",
       "</table>\n",
       "<p>480 rows × 2100 columns</p>\n",
       "</div>"
      ],
      "text/plain": [
       "keywords  15th  17th  18th  1910s  1930s  1940s  1950s  1960s  1970s  1990s  \\\n",
       "index                                                                         \n",
       "0          0.0   0.0   0.0    0.0    0.0    0.0    0.0    0.0    0.0    0.0   \n",
       "1          0.0   0.0   0.0    0.0    0.0    0.0    0.0    0.0    0.0    0.0   \n",
       "2          0.0   0.0   0.0    0.0    0.0    0.0    0.0    0.0    0.0    0.0   \n",
       "3          0.0   0.0   0.0    0.0    0.0    0.0    0.0    0.0    0.0    0.0   \n",
       "4          0.0   0.0   0.0    0.0    0.0    0.0    0.0    0.0    0.0    0.0   \n",
       "...        ...   ...   ...    ...    ...    ...    ...    ...    ...    ...   \n",
       "475        0.0   0.0   0.0    0.0    0.0    0.0    0.0    0.0    0.0    0.0   \n",
       "476        0.0   0.0   0.0    0.0    0.0    0.0    0.0    0.0    0.0    0.0   \n",
       "477        0.0   0.0   0.0    0.0    0.0    0.0    0.0    0.0    0.0    0.0   \n",
       "478        0.0   0.0   0.0    0.0    0.0    0.0    0.0    0.0    0.0    0.0   \n",
       "479        0.0   0.0   0.0    0.0    0.0    0.0    0.0    0.0    0.0    0.0   \n",
       "\n",
       "keywords  ...  wrong  wrongful  wyatt  wyoming  x-ray  xenomorph  yellow  \\\n",
       "index     ...                                                              \n",
       "0         ...    0.0       0.0    0.0      0.0    0.0        0.0     0.0   \n",
       "1         ...    0.0       0.0    0.0      0.0    0.0        0.0     0.0   \n",
       "2         ...    0.0       0.0    0.0      0.0    0.0        0.0     0.0   \n",
       "3         ...    0.0       0.0    0.0      0.0    0.0        0.0     0.0   \n",
       "4         ...    0.0       0.0    0.0      0.0    0.0        0.0     0.0   \n",
       "...       ...    ...       ...    ...      ...    ...        ...     ...   \n",
       "475       ...    0.0       0.0    0.0      0.0    0.0        0.0     0.0   \n",
       "476       ...    0.0       0.0    0.0      0.0    0.0        0.0     0.0   \n",
       "477       ...    0.0       0.0    0.0      0.0    0.0        0.0     0.0   \n",
       "478       ...    0.0       0.0    0.0      0.0    0.0        0.0     0.0   \n",
       "479       ...    0.0       0.0    0.0      0.0    0.0        0.0     0.0   \n",
       "\n",
       "keywords  young  yuppie  zombie  \n",
       "index                            \n",
       "0           0.0     0.0     0.0  \n",
       "1           0.0     0.0     0.0  \n",
       "2           0.0     0.0     0.0  \n",
       "3           0.0     0.0     0.0  \n",
       "4           0.0     0.0     0.0  \n",
       "...         ...     ...     ...  \n",
       "475         0.0     0.0     0.0  \n",
       "476         0.0     0.0     0.0  \n",
       "477         0.0     0.0     0.0  \n",
       "478         0.0     0.0     0.0  \n",
       "479         0.0     0.0     0.0  \n",
       "\n",
       "[480 rows x 2100 columns]"
      ]
     },
     "execution_count": 631,
     "metadata": {},
     "output_type": "execute_result"
    }
   ],
   "source": [
    "movie_keywords_matrix"
   ]
  },
  {
   "cell_type": "code",
   "execution_count": 696,
   "metadata": {},
   "outputs": [
    {
     "data": {
      "text/plain": [
       "9.808333333333334"
      ]
     },
     "execution_count": 696,
     "metadata": {},
     "output_type": "execute_result"
    }
   ],
   "source": [
    "movie_keywords_matrix.sum(axis=1).mean()"
   ]
  },
  {
   "cell_type": "code",
   "execution_count": 632,
   "metadata": {},
   "outputs": [
    {
     "data": {
      "text/plain": [
       "<function matplotlib.pyplot.show(*args, **kw)>"
      ]
     },
     "execution_count": 632,
     "metadata": {},
     "output_type": "execute_result"
    },
    {
     "data": {
      "image/png": "[encoded data removed]",
      "text/plain": [
       "<Figure size 432x288 with 1 Axes>"
      ]
     },
     "metadata": {
      "needs_background": "light"
     },
     "output_type": "display_data"
    }
   ],
   "source": [
    "keyword_distances = pdist(movie_keywords_matrix,'jaccard')\n",
    "plt.hist(keyword_distances[keyword_distances != 1])\n",
    "plt.show"
   ]
  },
  {
   "cell_type": "code",
   "execution_count": 633,
   "metadata": {
    "scrolled": true
   },
   "outputs": [
    {
     "data": {
      "image/png": "[encoded data removed]",
      "text/plain": [
       "<Figure size 432x288 with 1 Axes>"
      ]
     },
     "metadata": {
      "needs_background": "light"
     },
     "output_type": "display_data"
    }
   ],
   "source": [
    "keyword_adjacency = squareform(np.where(keyword_distances < 1 , 1 , 0))\n",
    "plt.spy(keyword_adjacency)\n",
    "plt.show()"
   ]
  },
  {
   "cell_type": "code",
   "execution_count": 634,
   "metadata": {},
   "outputs": [
    {
     "data": {
      "text/plain": [
       "array([1.        , 0.93333333, 1.        , ..., 1.        , 1.        ,\n",
       "       1.        ])"
      ]
     },
     "execution_count": 634,
     "metadata": {},
     "output_type": "execute_result"
    }
   ],
   "source": [
    "keyword_distances"
   ]
  },
  {
   "cell_type": "code",
   "execution_count": 635,
   "metadata": {},
   "outputs": [
    {
     "data": {
      "image/png": "[encoded data removed]",
      "text/plain": [
       "<Figure size 432x288 with 1 Axes>"
      ]
     },
     "metadata": {
      "needs_background": "light"
     },
     "output_type": "display_data"
    }
   ],
   "source": [
    "alpha = 0.25\n",
    "epsilon = 0.95\n",
    "keyword_adjacency = epsilon_similarity_graph(squareform(keyword_distances), alpha=alpha, epsilon=epsilon)\n",
    "plt.spy(keyword_adjacency)\n",
    "plt.show()"
   ]
  },
  {
   "cell_type": "code",
   "execution_count": 636,
   "metadata": {},
   "outputs": [],
   "source": [
    "np.savetxt(GENERATED_PATH+'movie_keyword_adj.csv', keyword_adjacency, delimiter=',')"
   ]
  },
  {
   "cell_type": "code",
   "execution_count": 637,
   "metadata": {},
   "outputs": [
    {
     "data": {
      "text/plain": [
       "index\n",
       "0      {0: 'boy-friends-friendship-jealousy-new-rival...\n",
       "1      {0: 'computer-cossack-cuba-ejection-electromag...\n",
       "2      {0: 'bet-episode-hoodlum-hotel-los-new-sperm-w...\n",
       "3      {0: 'based-business-con-crime-debt-drug-gambli...\n",
       "4      {0: 'cowardliness-police-psychologist-psycholo...\n",
       "                             ...                        \n",
       "475           {0: 'american-chinese-kangaroo-mythology'}\n",
       "476     {0: 'confidence-dialogue-independent-invention'}\n",
       "477                    {0: 'invention-inventor-scandal'}\n",
       "478                   {0: 'head-mexico-murder-vacation'}\n",
       "479    {0: 'alternative-ambiguous-chance-commercial-d...\n",
       "Name: label, Length: 480, dtype: object"
      ]
     },
     "execution_count": 637,
     "metadata": {},
     "output_type": "execute_result"
    }
   ],
   "source": [
    "# Add labels for visualisation in Gephi\n",
    "\n",
    "# First keyword is float (nan), remove\n",
    "#keywords.pop(0)\n",
    "\n",
    "movie_keywords_matrix['label'] = movie_keywords_matrix.apply(lambda x: [keyword for keyword in keywords if x[keyword] != 0], axis=1)\n",
    "movie_keywords_matrix['label'] = movie_keywords_matrix.apply(lambda x: {0: '-'.join(x['label'])}, axis=1)\n",
    "movie_keywords_matrix['label']"
   ]
  },
  {
   "cell_type": "code",
   "execution_count": 638,
   "metadata": {},
   "outputs": [],
   "source": [
    "graph = nx.from_numpy_array(keyword_adjacency)\n",
    "nx.set_node_attributes(graph, movie_keywords_matrix['label'])\n",
    "nx.write_gexf(graph, GRAPH_PATH+'movie_keywords.gexf')"
   ]
  },
  {
   "cell_type": "markdown",
   "metadata": {
    "heading_collapsed": true
   },
   "source": [
    "### Buget & Revenue network"
   ]
  },
  {
   "cell_type": "code",
   "execution_count": 164,
   "metadata": {
    "hidden": true
   },
   "outputs": [
    {
     "name": "stdout",
     "output_type": "stream",
     "text": [
      "51\n",
      "86\n"
     ]
    }
   ],
   "source": [
    "movies_revenue = movies[['id', 'title', 'revenue', 'budget']]\n",
    "print(np.sum((movies_revenue['budget'] == 0)))\n",
    "print(np.sum((movies_revenue['revenue'] == 0)))"
   ]
  },
  {
   "cell_type": "markdown",
   "metadata": {
    "hidden": true
   },
   "source": [
    "A lot of data is unknown (86/480), so this metric is not really usable"
   ]
  },
  {
   "cell_type": "markdown",
   "metadata": {
    "heading_collapsed": true
   },
   "source": [
    "### Original language network"
   ]
  },
  {
   "cell_type": "code",
   "execution_count": 165,
   "metadata": {
    "hidden": true
   },
   "outputs": [
    {
     "data": {
      "text/plain": [
       "en    474\n",
       "it      2\n",
       "fr      1\n",
       "ja      1\n",
       "cn      1\n",
       "de      1\n",
       "Name: original_language, dtype: int64"
      ]
     },
     "execution_count": 165,
     "metadata": {},
     "output_type": "execute_result"
    }
   ],
   "source": [
    "language = movies[['original_language']]\n",
    "language['original_language'].value_counts()"
   ]
  },
  {
   "cell_type": "markdown",
   "metadata": {
    "hidden": true
   },
   "source": [
    "As most movies are english, language isn't a good metric either"
   ]
  },
  {
   "cell_type": "markdown",
   "metadata": {},
   "source": [
    "### Production company"
   ]
  },
  {
   "cell_type": "code",
   "execution_count": 516,
   "metadata": {},
   "outputs": [],
   "source": [
    "def strdict_to_column_companies(strdict, name):\n",
    "    \"\"\"\n",
    "    Converts a dict (in string format) to a list of the values\n",
    "    e.g. [{\"id\": 18, \"name\": \"Drama\"}, {\"id\": 10749, \"Action\"}] -> [\"Drama\", \"Action\"]\n",
    "    \"\"\"\n",
    "    list_dicts = strdict.apply(lambda x: ast.literal_eval(x))\n",
    "    # Convert list of dicts to list of keywords/genres\n",
    "    _list = list_dicts.apply(lambda x: [d['name'] for d in x ])\n",
    "    df = pd.DataFrame(_list)\n",
    "    df = df.explode(name)\n",
    "    df['production_companies'] = df.apply(lambda x: company_tranform(str(x['production_companies'])), axis=1)\n",
    "    df['count'] = 1\n",
    "    df = df.reset_index()\n",
    "    df = df.drop_duplicates()\n",
    "    # Pivot so 'name' becomes columns\n",
    "    df = df.pivot(index='index', columns=name, values='count').fillna(0)\n",
    "    return df\n",
    "\n",
    "# We could see that some companies have a slightly different name, but should be the same: \n",
    "# Act III & Act III Communications\n",
    "# Alphaville Films & Alphaville Productions \n",
    "# Canal Plus & Canal+\n",
    "# Columbia Pictures & Columbia Pictures Corporation & Columbia Pictures Industries\n",
    "# ...\n",
    "def company_tranform(company):\n",
    "    if company == \"Act III Communications\":\n",
    "        return \"Act III\"\n",
    "    if company == \"Alphaville Productions\":\n",
    "        return \"Alphaville Films\"\n",
    "    if company == \"Constellation Entertainment\":\n",
    "        return \"Constellation Films\"\n",
    "    if company == \"Detour Film Production\":\n",
    "        return \"Detour Filmproduction\"\n",
    "    if company == \"Dino de Laurentiis Cinematografica\":\n",
    "        return \"Dino De Laurentiis Company\"\n",
    "    if company == \"Hemdale Film Corporation\":\n",
    "        return \"Hemdale Film\"\n",
    "    if company == \"Polar Entertainment\":\n",
    "        return \"Polar Productions\"\n",
    "    if company == \"Renaissance Pictures\":\n",
    "        return \"Renaissance Films\"\n",
    "    if company == \"Taurus Films\":\n",
    "        return \"Taurus Film\"\n",
    "    if \"Samuel Goldwyn Company\" in company:\n",
    "        return \"Samuel Goldwyn Company\"    \n",
    "    if \"Fox\" in company:\n",
    "        return \"Fox\"\n",
    "    if \"BBC\" in company:\n",
    "        return \"BBC\"\n",
    "    if \"Columbia Pictures\" in company:\n",
    "        return \"Columbia Pictures\"\n",
    "    if \"MPCA\" in company:\n",
    "        return \"MPCA\"\n",
    "    if \"Paramount\" in company:\n",
    "        return \"Paramount\"\n",
    "    if \"Disney\" in company:\n",
    "        return \"Disney\"\n",
    "    if \"Warner Bros\" in company:\n",
    "        return \"Warner Bros\"\n",
    "    return company"
   ]
  },
  {
   "cell_type": "code",
   "execution_count": 524,
   "metadata": {},
   "outputs": [],
   "source": [
    "movie_companies = movies['production_companies']\n",
    "movie_companies_matrix = strdict_to_column_companies(movie_companies, 'production_companies')\n",
    "companies = list(movie_companies_matrix.columns)"
   ]
  },
  {
   "cell_type": "code",
   "execution_count": 694,
   "metadata": {},
   "outputs": [
    {
     "data": {
      "text/plain": [
       "2.2666666666666666"
      ]
     },
     "execution_count": 694,
     "metadata": {},
     "output_type": "execute_result"
    }
   ],
   "source": [
    "movie_companies_matrix.sum(axis=1).mean()"
   ]
  },
  {
   "cell_type": "markdown",
   "metadata": {},
   "source": [
    "As with the keywords, we will use the Jaccard similarity"
   ]
  },
  {
   "cell_type": "code",
   "execution_count": 528,
   "metadata": {},
   "outputs": [
    {
     "data": {
      "image/png": "[encoded data removed]",
      "text/plain": [
       "<Figure size 432x288 with 1 Axes>"
      ]
     },
     "metadata": {
      "needs_background": "light"
     },
     "output_type": "display_data"
    }
   ],
   "source": [
    "company_distances = pdist(movie_companies_matrix,'jaccard')\n",
    "plt.hist(company_distances)\n",
    "plt.show()"
   ]
  },
  {
   "cell_type": "code",
   "execution_count": 666,
   "metadata": {},
   "outputs": [
    {
     "data": {
      "text/plain": [
       "0.0"
      ]
     },
     "execution_count": 666,
     "metadata": {},
     "output_type": "execute_result"
    }
   ],
   "source": [
    "pd.DataFrame(squareform(company_distances)).iloc[13,421]"
   ]
  },
  {
   "cell_type": "code",
   "execution_count": 529,
   "metadata": {
    "scrolled": true
   },
   "outputs": [
    {
     "data": {
      "image/png": "[encoded data removed]",
      "text/plain": [
       "<Figure size 432x288 with 1 Axes>"
      ]
     },
     "metadata": {
      "needs_background": "light"
     },
     "output_type": "display_data"
    }
   ],
   "source": [
    "company_adjacency = squareform(np.where(company_distances < 1 , 1 , 0))\n",
    "plt.spy(company_adjacency)\n",
    "plt.show()"
   ]
  },
  {
   "cell_type": "code",
   "execution_count": 682,
   "metadata": {},
   "outputs": [
    {
     "data": {
      "image/png": "[encoded data removed]",
      "text/plain": [
       "<Figure size 432x288 with 1 Axes>"
      ]
     },
     "metadata": {
      "needs_background": "light"
     },
     "output_type": "display_data"
    }
   ],
   "source": [
    "alpha = 0.25\n",
    "epsilon = 0.95\n",
    "company_adjacency = epsilon_similarity_graph(squareform(company_distances), alpha=alpha, epsilon=epsilon)\n",
    "plt.spy(company_adjacency)\n",
    "plt.show()"
   ]
  },
  {
   "cell_type": "code",
   "execution_count": 686,
   "metadata": {},
   "outputs": [],
   "source": [
    "np.savetxt(GENERATED_PATH+'movie_company_adj.csv', company_adjacency, delimiter=',')"
   ]
  },
  {
   "cell_type": "code",
   "execution_count": 684,
   "metadata": {},
   "outputs": [
    {
     "data": {
      "text/plain": [
       "index\n",
       "0                         {0: 'Pixar Animation Studios'}\n",
       "1                  {0: 'Eon Productions-United Artists'}\n",
       "2                      {0: 'A Band Apart-Miramax Films'}\n",
       "3          {0: 'Jersey Films-Metro-Goldwyn-Mayer (MGM)'}\n",
       "4        {0: 'New Regency Pictures-Regency Enterprises'}\n",
       "                             ...                        \n",
       "475    {0: 'China Film Co-Production Corporation-IJL ...\n",
       "476    {0: 'Jasmine Productions Inc.-Jean Doumanian P...\n",
       "477                            {0: '101st Street Films'}\n",
       "478    {0: 'Brad Krevoy & Steve Stabler production-Or...\n",
       "479    {0: 'Intermedia Films-Mirage Enterprises-Miram...\n",
       "Name: label, Length: 480, dtype: object"
      ]
     },
     "execution_count": 684,
     "metadata": {},
     "output_type": "execute_result"
    }
   ],
   "source": [
    "# Add labels for visualisation in Gephi\n",
    "\n",
    "movie_companies_matrix['label'] = movie_companies_matrix.apply(lambda x: [company for company in companies if x[company] != 0], axis=1)\n",
    "movie_companies_matrix['label'] = movie_companies_matrix.apply(lambda x: {0: '-'.join(x['label'])}, axis=1)\n",
    "movie_companies_matrix['label']"
   ]
  },
  {
   "cell_type": "code",
   "execution_count": 685,
   "metadata": {},
   "outputs": [],
   "source": [
    "graph = nx.from_numpy_array(company_adjacency)\n",
    "nx.set_node_attributes(graph, movie_companies_matrix['label'])\n",
    "nx.write_gexf(graph, GRAPH_PATH+'movie_companies.gexf')"
   ]
  },
  {
   "cell_type": "markdown",
   "metadata": {},
   "source": [
    "## Combining feature networks"
   ]
  },
  {
   "cell_type": "code",
   "execution_count": 533,
   "metadata": {},
   "outputs": [
    {
     "data": {
      "image/png": "[encoded data removed]",
      "text/plain": [
       "<Figure size 1080x216 with 3 Axes>"
      ]
     },
     "metadata": {
      "needs_background": "light"
     },
     "output_type": "display_data"
    }
   ],
   "source": [
    "plt.figure(1,figsize=(15,3))\n",
    "\n",
    "plt.subplot(131)\n",
    "plt.hist(genre_distances)\n",
    "\n",
    "plt.subplot(132)\n",
    "plt.hist(keyword_distances)\n",
    "\n",
    "plt.subplot(133)\n",
    "plt.hist(company_distances)\n",
    "\n",
    "plt.show()"
   ]
  },
  {
   "cell_type": "markdown",
   "metadata": {},
   "source": [
    "As expected, keyword_distances and company_distances are mostly around one, as the sets are very big"
   ]
  },
  {
   "cell_type": "code",
   "execution_count": 697,
   "metadata": {},
   "outputs": [
    {
     "data": {
      "image/png": "[encoded data removed]",
      "text/plain": [
       "<Figure size 432x288 with 1 Axes>"
      ]
     },
     "metadata": {
      "needs_background": "light"
     },
     "output_type": "display_data"
    }
   ],
   "source": [
    "genre_factor = 1\n",
    "keyword_factor = 1\n",
    "company_factor = 1\n",
    "movie_distances = genre_factor*genre_distances + keyword_factor*keyword_distances + company_factor*company_distances\n",
    "#movie_distances = np.where(movie_distances<0,0,movie_distances)\n",
    "plt.hist(movie_distances, bins=20)\n",
    "plt.show()"
   ]
  },
  {
   "cell_type": "code",
   "execution_count": 328,
   "metadata": {},
   "outputs": [],
   "source": [
    "def epsilon_similarity_graph(distances: np.ndarray, alpha=1, epsilon=0):\n",
    "    \"\"\" X (n x n): distance matrix\n",
    "        alpha (float): width of the kernel\n",
    "        epsilon (float): threshold\n",
    "        Return:\n",
    "        adjacency (n x n ndarray): adjacency matrix of the graph.\n",
    "    \"\"\"\n",
    "    X = distances.copy()\n",
    "    X[X > epsilon] = np.inf\n",
    "    adjacency = np.exp( - X ** 2 / alpha)\n",
    "    np.fill_diagonal(adjacency, 0)\n",
    "    return adjacency"
   ]
  },
  {
   "cell_type": "code",
   "execution_count": 698,
   "metadata": {},
   "outputs": [
    {
     "data": {
      "image/png": "[encoded data removed]",
      "text/plain": [
       "<Figure size 432x288 with 1 Axes>"
      ]
     },
     "metadata": {
      "needs_background": "light"
     },
     "output_type": "display_data"
    }
   ],
   "source": [
    "alpha = 1\n",
    "epsilon = 2\n",
    "\n",
    "adjacency = epsilon_similarity_graph(squareform(movie_distances), alpha=alpha, epsilon=epsilon)\n",
    "adjacency = np.where(adjacency < 0.001, 0, adjacency)\n",
    "plt.spy(adjacency)\n",
    "plt.show()"
   ]
  },
  {
   "cell_type": "code",
   "execution_count": 195,
   "metadata": {
    "scrolled": true
   },
   "outputs": [
    {
     "data": {
      "image/png": "[encoded data removed]",
      "text/plain": [
       "<Figure size 432x288 with 1 Axes>"
      ]
     },
     "metadata": {
      "needs_background": "light"
     },
     "output_type": "display_data"
    }
   ],
   "source": [
    "movie_adjacency = squareform(np.where(movie_distances >= 1,1,0))\n",
    "plt.spy(movie_adjacency)\n",
    "plt.show()"
   ]
  },
  {
   "cell_type": "code",
   "execution_count": 699,
   "metadata": {},
   "outputs": [],
   "source": [
    "np.savetxt(GENERATED_PATH+'movie_features_adj.csv', adjacency, delimiter=',')"
   ]
  },
  {
   "cell_type": "code",
   "execution_count": 700,
   "metadata": {},
   "outputs": [
    {
     "data": {
      "text/html": [
       "<div>\n",
       "<style scoped>\n",
       "    .dataframe tbody tr th:only-of-type {\n",
       "        vertical-align: middle;\n",
       "    }\n",
       "\n",
       "    .dataframe tbody tr th {\n",
       "        vertical-align: top;\n",
       "    }\n",
       "\n",
       "    .dataframe thead th {\n",
       "        text-align: right;\n",
       "    }\n",
       "</style>\n",
       "<table border=\"1\" class=\"dataframe\">\n",
       "  <thead>\n",
       "    <tr style=\"text-align: right;\">\n",
       "      <th></th>\n",
       "      <th>genre</th>\n",
       "      <th>keyword</th>\n",
       "      <th>company</th>\n",
       "    </tr>\n",
       "  </thead>\n",
       "  <tbody>\n",
       "    <tr>\n",
       "      <td>0</td>\n",
       "      <td>{0: 'Animation-Comedy-Family'}</td>\n",
       "      <td>{1: 'boy-friends-friendship-jealousy-new-rival...</td>\n",
       "      <td>{2: 'Pixar Animation Studios'}</td>\n",
       "    </tr>\n",
       "    <tr>\n",
       "      <td>1</td>\n",
       "      <td>{0: 'Action-Adventure-Thriller'}</td>\n",
       "      <td>{1: 'computer-cossack-cuba-ejection-electromag...</td>\n",
       "      <td>{2: 'Eon Productions-United Artists'}</td>\n",
       "    </tr>\n",
       "    <tr>\n",
       "      <td>2</td>\n",
       "      <td>{0: 'Comedy-Crime'}</td>\n",
       "      <td>{1: 'bet-episode-hoodlum-hotel-los-new-sperm-w...</td>\n",
       "      <td>{2: 'A Band Apart-Miramax Films'}</td>\n",
       "    </tr>\n",
       "    <tr>\n",
       "      <td>3</td>\n",
       "      <td>{0: 'Comedy-Crime-Thriller'}</td>\n",
       "      <td>{1: 'based-business-con-crime-debt-drug-gambli...</td>\n",
       "      <td>{2: 'Jersey Films-Metro-Goldwyn-Mayer (MGM)'}</td>\n",
       "    </tr>\n",
       "    <tr>\n",
       "      <td>4</td>\n",
       "      <td>{0: 'Drama-Thriller'}</td>\n",
       "      <td>{1: 'cowardliness-police-psychologist-psycholo...</td>\n",
       "      <td>{2: 'New Regency Pictures-Regency Enterprises'}</td>\n",
       "    </tr>\n",
       "    <tr>\n",
       "      <td>...</td>\n",
       "      <td>...</td>\n",
       "      <td>...</td>\n",
       "      <td>...</td>\n",
       "    </tr>\n",
       "    <tr>\n",
       "      <td>475</td>\n",
       "      <td>{0: 'Action-Family-Fantasy'}</td>\n",
       "      <td>{1: 'american-chinese-kangaroo-mythology'}</td>\n",
       "      <td>{2: 'China Film Co-Production Corporation-IJL ...</td>\n",
       "    </tr>\n",
       "    <tr>\n",
       "      <td>476</td>\n",
       "      <td>{0: 'Crime-Drama-Mystery-Thriller'}</td>\n",
       "      <td>{1: 'confidence-dialogue-independent-invention'}</td>\n",
       "      <td>{2: 'Jasmine Productions Inc.-Jean Doumanian P...</td>\n",
       "    </tr>\n",
       "    <tr>\n",
       "      <td>477</td>\n",
       "      <td>{0: 'Comedy'}</td>\n",
       "      <td>{1: 'invention-inventor-scandal'}</td>\n",
       "      <td>{2: '101st Street Films'}</td>\n",
       "    </tr>\n",
       "    <tr>\n",
       "      <td>478</td>\n",
       "      <td>{0: 'Comedy-Crime'}</td>\n",
       "      <td>{1: 'head-mexico-murder-vacation'}</td>\n",
       "      <td>{2: 'Brad Krevoy &amp; Steve Stabler production-Or...</td>\n",
       "    </tr>\n",
       "    <tr>\n",
       "      <td>479</td>\n",
       "      <td>{0: 'Comedy-Drama-Fantasy-Romance'}</td>\n",
       "      <td>{1: 'alternative-ambiguous-chance-commercial-d...</td>\n",
       "      <td>{2: 'Intermedia Films-Mirage Enterprises-Miram...</td>\n",
       "    </tr>\n",
       "  </tbody>\n",
       "</table>\n",
       "<p>480 rows × 3 columns</p>\n",
       "</div>"
      ],
      "text/plain": [
       "                                   genre  \\\n",
       "0         {0: 'Animation-Comedy-Family'}   \n",
       "1       {0: 'Action-Adventure-Thriller'}   \n",
       "2                    {0: 'Comedy-Crime'}   \n",
       "3           {0: 'Comedy-Crime-Thriller'}   \n",
       "4                  {0: 'Drama-Thriller'}   \n",
       "..                                   ...   \n",
       "475         {0: 'Action-Family-Fantasy'}   \n",
       "476  {0: 'Crime-Drama-Mystery-Thriller'}   \n",
       "477                        {0: 'Comedy'}   \n",
       "478                  {0: 'Comedy-Crime'}   \n",
       "479  {0: 'Comedy-Drama-Fantasy-Romance'}   \n",
       "\n",
       "                                               keyword  \\\n",
       "0    {1: 'boy-friends-friendship-jealousy-new-rival...   \n",
       "1    {1: 'computer-cossack-cuba-ejection-electromag...   \n",
       "2    {1: 'bet-episode-hoodlum-hotel-los-new-sperm-w...   \n",
       "3    {1: 'based-business-con-crime-debt-drug-gambli...   \n",
       "4    {1: 'cowardliness-police-psychologist-psycholo...   \n",
       "..                                                 ...   \n",
       "475         {1: 'american-chinese-kangaroo-mythology'}   \n",
       "476   {1: 'confidence-dialogue-independent-invention'}   \n",
       "477                  {1: 'invention-inventor-scandal'}   \n",
       "478                 {1: 'head-mexico-murder-vacation'}   \n",
       "479  {1: 'alternative-ambiguous-chance-commercial-d...   \n",
       "\n",
       "                                               company  \n",
       "0                       {2: 'Pixar Animation Studios'}  \n",
       "1                {2: 'Eon Productions-United Artists'}  \n",
       "2                    {2: 'A Band Apart-Miramax Films'}  \n",
       "3        {2: 'Jersey Films-Metro-Goldwyn-Mayer (MGM)'}  \n",
       "4      {2: 'New Regency Pictures-Regency Enterprises'}  \n",
       "..                                                 ...  \n",
       "475  {2: 'China Film Co-Production Corporation-IJL ...  \n",
       "476  {2: 'Jasmine Productions Inc.-Jean Doumanian P...  \n",
       "477                          {2: '101st Street Films'}  \n",
       "478  {2: 'Brad Krevoy & Steve Stabler production-Or...  \n",
       "479  {2: 'Intermedia Films-Mirage Enterprises-Miram...  \n",
       "\n",
       "[480 rows x 3 columns]"
      ]
     },
     "execution_count": 700,
     "metadata": {},
     "output_type": "execute_result"
    }
   ],
   "source": [
    "movie_labels=pd.DataFrame()\n",
    "# Add labels for visualisation in Gephi\n",
    "movie_genres_matrix['label'] = movie_genres_matrix.apply(lambda x: [genre for genre in genres if x[genre] != 0], axis=1)\n",
    "movie_labels['genre'] = movie_genres_matrix.apply(lambda x: {0: '-'.join(x['label'])}, axis=1)\n",
    "\n",
    "movie_keywords_matrix['label'] = movie_keywords_matrix.apply(lambda x: [keyword for keyword in keywords if x[keyword] != 0], axis=1)\n",
    "movie_labels['keyword'] = movie_keywords_matrix.apply(lambda x: {1: '-'.join(x['label'])}, axis=1)\n",
    "\n",
    "\n",
    "movie_companies_matrix['label'] = movie_companies_matrix.apply(lambda x: [company for company in companies if x[company] != 0], axis=1)\n",
    "movie_labels['company'] = movie_companies_matrix.apply(lambda x: {2: '-'.join(x['label'])}, axis=1)\n",
    "movie_labels"
   ]
  },
  {
   "cell_type": "code",
   "execution_count": 701,
   "metadata": {},
   "outputs": [],
   "source": [
    "graph = nx.from_numpy_array(adjacency)\n",
    "nx.set_node_attributes(graph, movie_labels['genre'])\n",
    "nx.set_node_attributes(graph, movie_labels['keyword'])\n",
    "nx.set_node_attributes(graph, movie_labels['company'])\n",
    "nx.write_gexf(graph, GRAPH_PATH+'movie_features.gexf')"
   ]
  },
  {
   "cell_type": "code",
   "execution_count": null,
   "metadata": {},
   "outputs": [],
   "source": []
  }
 ],
 "metadata": {
  "hide_input": false,
  "kernelspec": {
   "display_name": "Python 3",
   "language": "python",
   "name": "python3"
  },
  "language_info": {
   "codemirror_mode": {
    "name": "ipython",
    "version": 3
   },
   "file_extension": ".py",
   "mimetype": "text/x-python",
   "name": "python",
   "nbconvert_exporter": "python",
   "pygments_lexer": "ipython3",
   "version": "3.7.3"
  }
 },
 "nbformat": 4,
 "nbformat_minor": 4
}
