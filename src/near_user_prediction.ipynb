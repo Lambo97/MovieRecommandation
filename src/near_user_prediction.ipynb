{
 "cells": [
  {
   "cell_type": "markdown",
   "metadata": {},
   "source": [
    "## Import the necessary Libraries"
   ]
  },
  {
   "cell_type": "code",
   "execution_count": 4,
   "metadata": {
    "ExecuteTime": {
     "end_time": "2020-01-02T20:38:18.483213Z",
     "start_time": "2020-01-02T20:38:18.468853Z"
    }
   },
   "outputs": [],
   "source": [
    "import pandas as pd\n",
    "import seaborn as sns\n",
    "import numpy as np\n",
    "from scipy.spatial.distance import pdist, cdist, squareform\n",
    "from matplotlib import pyplot as plt\n",
    "import networkx as nx\n",
    "import os\n",
    "from sklearn.metrics import mean_squared_error\n",
    "from pygsp import graphs\n",
    "\n",
    "from IPython.display import display, clear_output\n",
    "%matplotlib inline"
   ]
  },
  {
   "cell_type": "code",
   "execution_count": 5,
   "metadata": {
    "ExecuteTime": {
     "end_time": "2020-01-02T19:58:36.940297Z",
     "start_time": "2020-01-02T19:58:36.923963Z"
    }
   },
   "outputs": [
    {
     "data": {
      "text/plain": [
       "'/home/ng/MovieRecommendation/src'"
      ]
     },
     "execution_count": 5,
     "metadata": {},
     "output_type": "execute_result"
    }
   ],
   "source": [
    "DATA_PATH = '../data/ml-100k-convert/'\n",
    "os.getcwd()"
   ]
  },
  {
   "cell_type": "markdown",
   "metadata": {},
   "source": [
    "## Load the ratings database"
   ]
  },
  {
   "cell_type": "code",
   "execution_count": 6,
   "metadata": {
    "ExecuteTime": {
     "end_time": "2020-01-02T19:58:37.214022Z",
     "start_time": "2020-01-02T19:58:36.948257Z"
    }
   },
   "outputs": [
    {
     "name": "stdout",
     "output_type": "stream",
     "text": [
      "(100000, 4)\n"
     ]
    },
    {
     "data": {
      "text/html": [
       "<div>\n",
       "<style scoped>\n",
       "    .dataframe tbody tr th:only-of-type {\n",
       "        vertical-align: middle;\n",
       "    }\n",
       "\n",
       "    .dataframe tbody tr th {\n",
       "        vertical-align: top;\n",
       "    }\n",
       "\n",
       "    .dataframe thead th {\n",
       "        text-align: right;\n",
       "    }\n",
       "</style>\n",
       "<table border=\"1\" class=\"dataframe\">\n",
       "  <thead>\n",
       "    <tr style=\"text-align: right;\">\n",
       "      <th></th>\n",
       "      <th>UserId</th>\n",
       "      <th>MovieId</th>\n",
       "      <th>Ratings</th>\n",
       "    </tr>\n",
       "  </thead>\n",
       "  <tbody>\n",
       "    <tr>\n",
       "      <td>0</td>\n",
       "      <td>196</td>\n",
       "      <td>242</td>\n",
       "      <td>3</td>\n",
       "    </tr>\n",
       "    <tr>\n",
       "      <td>1</td>\n",
       "      <td>186</td>\n",
       "      <td>302</td>\n",
       "      <td>3</td>\n",
       "    </tr>\n",
       "    <tr>\n",
       "      <td>2</td>\n",
       "      <td>22</td>\n",
       "      <td>377</td>\n",
       "      <td>1</td>\n",
       "    </tr>\n",
       "    <tr>\n",
       "      <td>3</td>\n",
       "      <td>244</td>\n",
       "      <td>51</td>\n",
       "      <td>2</td>\n",
       "    </tr>\n",
       "    <tr>\n",
       "      <td>4</td>\n",
       "      <td>166</td>\n",
       "      <td>346</td>\n",
       "      <td>1</td>\n",
       "    </tr>\n",
       "  </tbody>\n",
       "</table>\n",
       "</div>"
      ],
      "text/plain": [
       "   UserId  MovieId  Ratings\n",
       "0     196      242        3\n",
       "1     186      302        3\n",
       "2      22      377        1\n",
       "3     244       51        2\n",
       "4     166      346        1"
      ]
     },
     "execution_count": 6,
     "metadata": {},
     "output_type": "execute_result"
    }
   ],
   "source": [
    "# Load data\n",
    "lens_ratings = pd.read_csv(DATA_PATH+'data.tsv', sep='\\t', names=['UserId', 'MovieId', 'Ratings', 'Timestamp'])\n",
    "print(lens_ratings.shape)\n",
    "# Get rid of timestamp\n",
    "lens_ratings = lens_ratings.drop(columns=['Timestamp'])\n",
    "lens_ratings.head()"
   ]
  },
  {
   "cell_type": "markdown",
   "metadata": {},
   "source": [
    "Look at some of the features of the Data"
   ]
  },
  {
   "cell_type": "code",
   "execution_count": 7,
   "metadata": {
    "ExecuteTime": {
     "end_time": "2020-01-02T19:58:37.235898Z",
     "start_time": "2020-01-02T19:58:37.218091Z"
    }
   },
   "outputs": [
    {
     "name": "stdout",
     "output_type": "stream",
     "text": [
      "There are 943 users\n",
      "There are 1682 movies\n"
     ]
    }
   ],
   "source": [
    "nb_users = len(lens_ratings.UserId.unique())\n",
    "nb_movies = len(lens_ratings.MovieId.unique())\n",
    "print('There are {} users'.format(nb_users))\n",
    "print('There are {} movies'.format(nb_movies))"
   ]
  },
  {
   "cell_type": "code",
   "execution_count": 8,
   "metadata": {
    "ExecuteTime": {
     "end_time": "2020-01-02T19:58:38.840052Z",
     "start_time": "2020-01-02T19:58:37.240057Z"
    }
   },
   "outputs": [
    {
     "data": {
      "text/html": [
       "<div>\n",
       "<style scoped>\n",
       "    .dataframe tbody tr th:only-of-type {\n",
       "        vertical-align: middle;\n",
       "    }\n",
       "\n",
       "    .dataframe tbody tr th {\n",
       "        vertical-align: top;\n",
       "    }\n",
       "\n",
       "    .dataframe thead th {\n",
       "        text-align: right;\n",
       "    }\n",
       "</style>\n",
       "<table border=\"1\" class=\"dataframe\">\n",
       "  <thead>\n",
       "    <tr style=\"text-align: right;\">\n",
       "      <th>MovieId</th>\n",
       "      <th>1</th>\n",
       "      <th>2</th>\n",
       "      <th>3</th>\n",
       "      <th>4</th>\n",
       "      <th>5</th>\n",
       "      <th>6</th>\n",
       "      <th>7</th>\n",
       "      <th>8</th>\n",
       "      <th>9</th>\n",
       "      <th>10</th>\n",
       "      <th>...</th>\n",
       "      <th>1673</th>\n",
       "      <th>1674</th>\n",
       "      <th>1675</th>\n",
       "      <th>1676</th>\n",
       "      <th>1677</th>\n",
       "      <th>1678</th>\n",
       "      <th>1679</th>\n",
       "      <th>1680</th>\n",
       "      <th>1681</th>\n",
       "      <th>1682</th>\n",
       "    </tr>\n",
       "    <tr>\n",
       "      <th>UserId</th>\n",
       "      <th></th>\n",
       "      <th></th>\n",
       "      <th></th>\n",
       "      <th></th>\n",
       "      <th></th>\n",
       "      <th></th>\n",
       "      <th></th>\n",
       "      <th></th>\n",
       "      <th></th>\n",
       "      <th></th>\n",
       "      <th></th>\n",
       "      <th></th>\n",
       "      <th></th>\n",
       "      <th></th>\n",
       "      <th></th>\n",
       "      <th></th>\n",
       "      <th></th>\n",
       "      <th></th>\n",
       "      <th></th>\n",
       "      <th></th>\n",
       "      <th></th>\n",
       "    </tr>\n",
       "  </thead>\n",
       "  <tbody>\n",
       "    <tr>\n",
       "      <td>1</td>\n",
       "      <td>5</td>\n",
       "      <td>3</td>\n",
       "      <td>4</td>\n",
       "      <td>3</td>\n",
       "      <td>3</td>\n",
       "      <td>5</td>\n",
       "      <td>4</td>\n",
       "      <td>1</td>\n",
       "      <td>5</td>\n",
       "      <td>3</td>\n",
       "      <td>...</td>\n",
       "      <td>0</td>\n",
       "      <td>0</td>\n",
       "      <td>0</td>\n",
       "      <td>0</td>\n",
       "      <td>0</td>\n",
       "      <td>0</td>\n",
       "      <td>0</td>\n",
       "      <td>0</td>\n",
       "      <td>0</td>\n",
       "      <td>0</td>\n",
       "    </tr>\n",
       "    <tr>\n",
       "      <td>2</td>\n",
       "      <td>4</td>\n",
       "      <td>0</td>\n",
       "      <td>0</td>\n",
       "      <td>0</td>\n",
       "      <td>0</td>\n",
       "      <td>0</td>\n",
       "      <td>0</td>\n",
       "      <td>0</td>\n",
       "      <td>0</td>\n",
       "      <td>2</td>\n",
       "      <td>...</td>\n",
       "      <td>0</td>\n",
       "      <td>0</td>\n",
       "      <td>0</td>\n",
       "      <td>0</td>\n",
       "      <td>0</td>\n",
       "      <td>0</td>\n",
       "      <td>0</td>\n",
       "      <td>0</td>\n",
       "      <td>0</td>\n",
       "      <td>0</td>\n",
       "    </tr>\n",
       "    <tr>\n",
       "      <td>3</td>\n",
       "      <td>0</td>\n",
       "      <td>0</td>\n",
       "      <td>0</td>\n",
       "      <td>0</td>\n",
       "      <td>0</td>\n",
       "      <td>0</td>\n",
       "      <td>0</td>\n",
       "      <td>0</td>\n",
       "      <td>0</td>\n",
       "      <td>0</td>\n",
       "      <td>...</td>\n",
       "      <td>0</td>\n",
       "      <td>0</td>\n",
       "      <td>0</td>\n",
       "      <td>0</td>\n",
       "      <td>0</td>\n",
       "      <td>0</td>\n",
       "      <td>0</td>\n",
       "      <td>0</td>\n",
       "      <td>0</td>\n",
       "      <td>0</td>\n",
       "    </tr>\n",
       "    <tr>\n",
       "      <td>4</td>\n",
       "      <td>0</td>\n",
       "      <td>0</td>\n",
       "      <td>0</td>\n",
       "      <td>0</td>\n",
       "      <td>0</td>\n",
       "      <td>0</td>\n",
       "      <td>0</td>\n",
       "      <td>0</td>\n",
       "      <td>0</td>\n",
       "      <td>0</td>\n",
       "      <td>...</td>\n",
       "      <td>0</td>\n",
       "      <td>0</td>\n",
       "      <td>0</td>\n",
       "      <td>0</td>\n",
       "      <td>0</td>\n",
       "      <td>0</td>\n",
       "      <td>0</td>\n",
       "      <td>0</td>\n",
       "      <td>0</td>\n",
       "      <td>0</td>\n",
       "    </tr>\n",
       "    <tr>\n",
       "      <td>5</td>\n",
       "      <td>4</td>\n",
       "      <td>3</td>\n",
       "      <td>0</td>\n",
       "      <td>0</td>\n",
       "      <td>0</td>\n",
       "      <td>0</td>\n",
       "      <td>0</td>\n",
       "      <td>0</td>\n",
       "      <td>0</td>\n",
       "      <td>0</td>\n",
       "      <td>...</td>\n",
       "      <td>0</td>\n",
       "      <td>0</td>\n",
       "      <td>0</td>\n",
       "      <td>0</td>\n",
       "      <td>0</td>\n",
       "      <td>0</td>\n",
       "      <td>0</td>\n",
       "      <td>0</td>\n",
       "      <td>0</td>\n",
       "      <td>0</td>\n",
       "    </tr>\n",
       "    <tr>\n",
       "      <td>...</td>\n",
       "      <td>...</td>\n",
       "      <td>...</td>\n",
       "      <td>...</td>\n",
       "      <td>...</td>\n",
       "      <td>...</td>\n",
       "      <td>...</td>\n",
       "      <td>...</td>\n",
       "      <td>...</td>\n",
       "      <td>...</td>\n",
       "      <td>...</td>\n",
       "      <td>...</td>\n",
       "      <td>...</td>\n",
       "      <td>...</td>\n",
       "      <td>...</td>\n",
       "      <td>...</td>\n",
       "      <td>...</td>\n",
       "      <td>...</td>\n",
       "      <td>...</td>\n",
       "      <td>...</td>\n",
       "      <td>...</td>\n",
       "      <td>...</td>\n",
       "    </tr>\n",
       "    <tr>\n",
       "      <td>939</td>\n",
       "      <td>0</td>\n",
       "      <td>0</td>\n",
       "      <td>0</td>\n",
       "      <td>0</td>\n",
       "      <td>0</td>\n",
       "      <td>0</td>\n",
       "      <td>0</td>\n",
       "      <td>0</td>\n",
       "      <td>5</td>\n",
       "      <td>0</td>\n",
       "      <td>...</td>\n",
       "      <td>0</td>\n",
       "      <td>0</td>\n",
       "      <td>0</td>\n",
       "      <td>0</td>\n",
       "      <td>0</td>\n",
       "      <td>0</td>\n",
       "      <td>0</td>\n",
       "      <td>0</td>\n",
       "      <td>0</td>\n",
       "      <td>0</td>\n",
       "    </tr>\n",
       "    <tr>\n",
       "      <td>940</td>\n",
       "      <td>0</td>\n",
       "      <td>0</td>\n",
       "      <td>0</td>\n",
       "      <td>2</td>\n",
       "      <td>0</td>\n",
       "      <td>0</td>\n",
       "      <td>4</td>\n",
       "      <td>5</td>\n",
       "      <td>3</td>\n",
       "      <td>0</td>\n",
       "      <td>...</td>\n",
       "      <td>0</td>\n",
       "      <td>0</td>\n",
       "      <td>0</td>\n",
       "      <td>0</td>\n",
       "      <td>0</td>\n",
       "      <td>0</td>\n",
       "      <td>0</td>\n",
       "      <td>0</td>\n",
       "      <td>0</td>\n",
       "      <td>0</td>\n",
       "    </tr>\n",
       "    <tr>\n",
       "      <td>941</td>\n",
       "      <td>5</td>\n",
       "      <td>0</td>\n",
       "      <td>0</td>\n",
       "      <td>0</td>\n",
       "      <td>0</td>\n",
       "      <td>0</td>\n",
       "      <td>4</td>\n",
       "      <td>0</td>\n",
       "      <td>0</td>\n",
       "      <td>0</td>\n",
       "      <td>...</td>\n",
       "      <td>0</td>\n",
       "      <td>0</td>\n",
       "      <td>0</td>\n",
       "      <td>0</td>\n",
       "      <td>0</td>\n",
       "      <td>0</td>\n",
       "      <td>0</td>\n",
       "      <td>0</td>\n",
       "      <td>0</td>\n",
       "      <td>0</td>\n",
       "    </tr>\n",
       "    <tr>\n",
       "      <td>942</td>\n",
       "      <td>0</td>\n",
       "      <td>0</td>\n",
       "      <td>0</td>\n",
       "      <td>0</td>\n",
       "      <td>0</td>\n",
       "      <td>0</td>\n",
       "      <td>0</td>\n",
       "      <td>0</td>\n",
       "      <td>0</td>\n",
       "      <td>0</td>\n",
       "      <td>...</td>\n",
       "      <td>0</td>\n",
       "      <td>0</td>\n",
       "      <td>0</td>\n",
       "      <td>0</td>\n",
       "      <td>0</td>\n",
       "      <td>0</td>\n",
       "      <td>0</td>\n",
       "      <td>0</td>\n",
       "      <td>0</td>\n",
       "      <td>0</td>\n",
       "    </tr>\n",
       "    <tr>\n",
       "      <td>943</td>\n",
       "      <td>0</td>\n",
       "      <td>5</td>\n",
       "      <td>0</td>\n",
       "      <td>0</td>\n",
       "      <td>0</td>\n",
       "      <td>0</td>\n",
       "      <td>0</td>\n",
       "      <td>0</td>\n",
       "      <td>3</td>\n",
       "      <td>0</td>\n",
       "      <td>...</td>\n",
       "      <td>0</td>\n",
       "      <td>0</td>\n",
       "      <td>0</td>\n",
       "      <td>0</td>\n",
       "      <td>0</td>\n",
       "      <td>0</td>\n",
       "      <td>0</td>\n",
       "      <td>0</td>\n",
       "      <td>0</td>\n",
       "      <td>0</td>\n",
       "    </tr>\n",
       "  </tbody>\n",
       "</table>\n",
       "<p>943 rows × 1682 columns</p>\n",
       "</div>"
      ],
      "text/plain": [
       "MovieId  1     2     3     4     5     6     7     8     9     10    ...  \\\n",
       "UserId                                                               ...   \n",
       "1           5     3     4     3     3     5     4     1     5     3  ...   \n",
       "2           4     0     0     0     0     0     0     0     0     2  ...   \n",
       "3           0     0     0     0     0     0     0     0     0     0  ...   \n",
       "4           0     0     0     0     0     0     0     0     0     0  ...   \n",
       "5           4     3     0     0     0     0     0     0     0     0  ...   \n",
       "...       ...   ...   ...   ...   ...   ...   ...   ...   ...   ...  ...   \n",
       "939         0     0     0     0     0     0     0     0     5     0  ...   \n",
       "940         0     0     0     2     0     0     4     5     3     0  ...   \n",
       "941         5     0     0     0     0     0     4     0     0     0  ...   \n",
       "942         0     0     0     0     0     0     0     0     0     0  ...   \n",
       "943         0     5     0     0     0     0     0     0     3     0  ...   \n",
       "\n",
       "MovieId  1673  1674  1675  1676  1677  1678  1679  1680  1681  1682  \n",
       "UserId                                                               \n",
       "1           0     0     0     0     0     0     0     0     0     0  \n",
       "2           0     0     0     0     0     0     0     0     0     0  \n",
       "3           0     0     0     0     0     0     0     0     0     0  \n",
       "4           0     0     0     0     0     0     0     0     0     0  \n",
       "5           0     0     0     0     0     0     0     0     0     0  \n",
       "...       ...   ...   ...   ...   ...   ...   ...   ...   ...   ...  \n",
       "939         0     0     0     0     0     0     0     0     0     0  \n",
       "940         0     0     0     0     0     0     0     0     0     0  \n",
       "941         0     0     0     0     0     0     0     0     0     0  \n",
       "942         0     0     0     0     0     0     0     0     0     0  \n",
       "943         0     0     0     0     0     0     0     0     0     0  \n",
       "\n",
       "[943 rows x 1682 columns]"
      ]
     },
     "execution_count": 8,
     "metadata": {},
     "output_type": "execute_result"
    }
   ],
   "source": [
    "# Pivot the table, put 0 when there are no ratings\n",
    "ratings = pd.pivot_table(lens_ratings, index='UserId', columns='MovieId', values='Ratings', fill_value=0)\n",
    "ratings"
   ]
  },
  {
   "cell_type": "markdown",
   "metadata": {},
   "source": [
    "We genereate a test and a learning dataset based on a 70:30 split. The mask is randomly distributed over the whole pivot table."
   ]
  },
  {
   "cell_type": "code",
   "execution_count": 9,
   "metadata": {
    "ExecuteTime": {
     "end_time": "2020-01-02T19:58:39.085627Z",
     "start_time": "2020-01-02T19:58:38.849777Z"
    }
   },
   "outputs": [
    {
     "data": {
      "text/plain": [
       "(943, 1682)"
      ]
     },
     "execution_count": 9,
     "metadata": {},
     "output_type": "execute_result"
    }
   ],
   "source": [
    "mask = np.random.rand(*ratings.shape) < 0.7\n",
    "ratings_np = ratings.to_numpy()\n",
    "rating_train = ratings_np.copy()\n",
    "rating_test = ratings_np.copy()\n",
    "rating_train[~mask] = 0\n",
    "rating_test[mask] = 0\n",
    "mask.shape"
   ]
  },
  {
   "cell_type": "markdown",
   "metadata": {},
   "source": [
    "What is the distrubition of movies rated by a user?\n",
    "as well as the maximum and minimum ratings:"
   ]
  },
  {
   "cell_type": "code",
   "execution_count": 10,
   "metadata": {
    "ExecuteTime": {
     "end_time": "2020-01-02T19:58:39.699725Z",
     "start_time": "2020-01-02T19:58:39.096576Z"
    }
   },
   "outputs": [
    {
     "name": "stdout",
     "output_type": "stream",
     "text": [
      "Number of movies rated per user: mean: 106.0, max: 20, min: 737\n"
     ]
    },
    {
     "data": {
      "image/png": "[encoded data removed]",
      "text/plain": [
       "<Figure size 432x288 with 1 Axes>"
      ]
     },
     "metadata": {
      "needs_background": "light"
     },
     "output_type": "display_data"
    }
   ],
   "source": [
    "plt.hist(np.count_nonzero(ratings, axis=1),bins=20)\n",
    "cnt = np.count_nonzero(ratings, axis=1)\n",
    "print(f'Number of movies rated per user: mean: {cnt.mean():.1f}, max: {cnt.min()}, min: {cnt.max()}')"
   ]
  },
  {
   "cell_type": "markdown",
   "metadata": {},
   "source": [
    "Here we define distance and weight functions that can be used with pdist and cdist to generate a distance matrix of the users."
   ]
  },
  {
   "cell_type": "code",
   "execution_count": 11,
   "metadata": {
    "ExecuteTime": {
     "end_time": "2020-01-02T19:58:40.521761Z",
     "start_time": "2020-01-02T19:58:40.487739Z"
    }
   },
   "outputs": [],
   "source": [
    "def user_distance(ratingsA, ratingsB):\n",
    "    #print(len(ratingsA),len(ratingsB))\n",
    "    diff_ratings = []\n",
    "    n = 0\n",
    "    for x, y in zip(ratingsA, ratingsB):\n",
    "        if x != 0 and y != 0:\n",
    "            n += 1\n",
    "            diff_ratings.append((x - y)**2)\n",
    "    if diff_ratings:\n",
    "        return np.mean(diff_ratings) / n\n",
    "    else:\n",
    "        return np.inf\n",
    "    \n",
    "def user_distance2(ratingsA, ratingsB):\n",
    "    mask = np.intersect1d(ratingsA.nonzero()[0], ratingsB.nonzero()[0])\n",
    "    diff_ratings = ((ratingsA[mask] - ratingsB[mask])**2)\n",
    "    if diff_ratings.shape[0] > 0:\n",
    "        cA = np.count_nonzero(ratingsA)\n",
    "        cB = np.count_nonzero(ratingsB)\n",
    "        #print(cA, cB, min(cA, cB))\n",
    "        return np.mean(diff_ratings) + 1 * (1 / diff_ratings.shape[0]) ** 2 + 0.6 * (np.abs(cA - cB) / min(cA, cB))**2.\n",
    "    else:\n",
    "        return np.inf\n",
    "    \n",
    "def user_weight_simple(ratingsA, ratingsB):\n",
    "    mask = np.intersect1d(ratingsA.nonzero()[0], ratingsB.nonzero()[0])\n",
    "    diff_ratings = np.abs((ratingsA[mask] - ratingsB[mask]))\n",
    "    return np.sum(4 - diff_ratings) / (np.count_nonzero(ratingsA))\n",
    "\n",
    "def count_intersect(ratingsA, ratingsB):\n",
    "    mask = np.intersect1d(ratingsA.nonzero()[0], ratingsB.nonzero()[0])\n",
    "    diff_ratings = np.abs((ratingsA[mask] - ratingsB[mask]))\n",
    "    return diff_ratings.shape[0]"
   ]
  },
  {
   "cell_type": "markdown",
   "metadata": {},
   "source": [
    "Here a little sample rating file is defined with arbitrary numbers, that can be used to check the output"
   ]
  },
  {
   "cell_type": "code",
   "execution_count": 12,
   "metadata": {
    "ExecuteTime": {
     "end_time": "2020-01-02T19:58:40.606501Z",
     "start_time": "2020-01-02T19:58:40.525977Z"
    }
   },
   "outputs": [
    {
     "data": {
      "text/html": [
       "<div>\n",
       "<style scoped>\n",
       "    .dataframe tbody tr th:only-of-type {\n",
       "        vertical-align: middle;\n",
       "    }\n",
       "\n",
       "    .dataframe tbody tr th {\n",
       "        vertical-align: top;\n",
       "    }\n",
       "\n",
       "    .dataframe thead th {\n",
       "        text-align: right;\n",
       "    }\n",
       "</style>\n",
       "<table border=\"1\" class=\"dataframe\">\n",
       "  <thead>\n",
       "    <tr style=\"text-align: right;\">\n",
       "      <th></th>\n",
       "      <th>0</th>\n",
       "      <th>1</th>\n",
       "      <th>2</th>\n",
       "      <th>3</th>\n",
       "      <th>4</th>\n",
       "      <th>5</th>\n",
       "      <th>6</th>\n",
       "    </tr>\n",
       "  </thead>\n",
       "  <tbody>\n",
       "    <tr>\n",
       "      <td>0</td>\n",
       "      <td>0</td>\n",
       "      <td>1</td>\n",
       "      <td>5</td>\n",
       "      <td>0</td>\n",
       "      <td>3</td>\n",
       "      <td>1</td>\n",
       "      <td>0</td>\n",
       "    </tr>\n",
       "    <tr>\n",
       "      <td>1</td>\n",
       "      <td>3</td>\n",
       "      <td>3</td>\n",
       "      <td>3</td>\n",
       "      <td>3</td>\n",
       "      <td>0</td>\n",
       "      <td>0</td>\n",
       "      <td>0</td>\n",
       "    </tr>\n",
       "    <tr>\n",
       "      <td>2</td>\n",
       "      <td>0</td>\n",
       "      <td>5</td>\n",
       "      <td>1</td>\n",
       "      <td>0</td>\n",
       "      <td>1</td>\n",
       "      <td>4</td>\n",
       "      <td>0</td>\n",
       "    </tr>\n",
       "    <tr>\n",
       "      <td>3</td>\n",
       "      <td>4</td>\n",
       "      <td>5</td>\n",
       "      <td>1</td>\n",
       "      <td>0</td>\n",
       "      <td>0</td>\n",
       "      <td>5</td>\n",
       "      <td>0</td>\n",
       "    </tr>\n",
       "  </tbody>\n",
       "</table>\n",
       "</div>"
      ],
      "text/plain": [
       "   0  1  2  3  4  5  6\n",
       "0  0  1  5  0  3  1  0\n",
       "1  3  3  3  3  0  0  0\n",
       "2  0  5  1  0  1  4  0\n",
       "3  4  5  1  0  0  5  0"
      ]
     },
     "execution_count": 12,
     "metadata": {},
     "output_type": "execute_result"
    }
   ],
   "source": [
    "#weight_matrix = squareform(pdist(ratings_norm, user_weight_simple))\n",
    "ratings_sample = ([[0,1,5,0,3,1,0],[3,3,3,3,0,0,0],[0,5,1,0,1,4,0],[4,5,1,0,0,5,0]])\n",
    "pd.DataFrame(ratings_sample)"
   ]
  },
  {
   "cell_type": "markdown",
   "metadata": {},
   "source": [
    "## Calculate the distance between all the users. \n",
    "This matrix will not be symmetric, hence we use the cdist."
   ]
  },
  {
   "cell_type": "code",
   "execution_count": 13,
   "metadata": {
    "ExecuteTime": {
     "end_time": "2020-01-02T20:00:41.692735Z",
     "start_time": "2020-01-02T19:58:40.616503Z"
    }
   },
   "outputs": [],
   "source": [
    "#weight_matrix = squareform(pdist(ratings_test, user_weight_simple))\n",
    "weight_matrix = (cdist(rating_train, rating_train, user_weight_simple))\n",
    "np.fill_diagonal(weight_matrix,0)"
   ]
  },
  {
   "cell_type": "markdown",
   "metadata": {},
   "source": [
    "Look at the structure of `weight_matrix`"
   ]
  },
  {
   "cell_type": "code",
   "execution_count": 14,
   "metadata": {
    "ExecuteTime": {
     "end_time": "2020-01-02T20:00:41.796550Z",
     "start_time": "2020-01-02T20:00:41.695917Z"
    }
   },
   "outputs": [
    {
     "name": "stdout",
     "output_type": "stream",
     "text": [
      "0.0 3.259259259259259 0.41462800263209176\n"
     ]
    },
    {
     "data": {
      "text/html": [
       "<div>\n",
       "<style scoped>\n",
       "    .dataframe tbody tr th:only-of-type {\n",
       "        vertical-align: middle;\n",
       "    }\n",
       "\n",
       "    .dataframe tbody tr th {\n",
       "        vertical-align: top;\n",
       "    }\n",
       "\n",
       "    .dataframe thead th {\n",
       "        text-align: right;\n",
       "    }\n",
       "</style>\n",
       "<table border=\"1\" class=\"dataframe\">\n",
       "  <thead>\n",
       "    <tr style=\"text-align: right;\">\n",
       "      <th></th>\n",
       "      <th>0</th>\n",
       "      <th>1</th>\n",
       "      <th>2</th>\n",
       "      <th>3</th>\n",
       "      <th>4</th>\n",
       "      <th>5</th>\n",
       "      <th>6</th>\n",
       "      <th>7</th>\n",
       "      <th>8</th>\n",
       "      <th>9</th>\n",
       "      <th>...</th>\n",
       "      <th>933</th>\n",
       "      <th>934</th>\n",
       "      <th>935</th>\n",
       "      <th>936</th>\n",
       "      <th>937</th>\n",
       "      <th>938</th>\n",
       "      <th>939</th>\n",
       "      <th>940</th>\n",
       "      <th>941</th>\n",
       "      <th>942</th>\n",
       "    </tr>\n",
       "  </thead>\n",
       "  <tbody>\n",
       "    <tr>\n",
       "      <td>0</td>\n",
       "      <td>0.000000</td>\n",
       "      <td>0.115385</td>\n",
       "      <td>0.016484</td>\n",
       "      <td>0.000000</td>\n",
       "      <td>0.576923</td>\n",
       "      <td>0.763736</td>\n",
       "      <td>1.010989</td>\n",
       "      <td>0.274725</td>\n",
       "      <td>0.043956</td>\n",
       "      <td>0.648352</td>\n",
       "      <td>...</td>\n",
       "      <td>0.521978</td>\n",
       "      <td>0.049451</td>\n",
       "      <td>0.362637</td>\n",
       "      <td>0.093407</td>\n",
       "      <td>0.241758</td>\n",
       "      <td>0.109890</td>\n",
       "      <td>0.302198</td>\n",
       "      <td>0.093407</td>\n",
       "      <td>0.148352</td>\n",
       "      <td>0.609890</td>\n",
       "    </tr>\n",
       "    <tr>\n",
       "      <td>1</td>\n",
       "      <td>0.488372</td>\n",
       "      <td>0.000000</td>\n",
       "      <td>0.162791</td>\n",
       "      <td>0.209302</td>\n",
       "      <td>0.209302</td>\n",
       "      <td>1.139535</td>\n",
       "      <td>0.558140</td>\n",
       "      <td>0.186047</td>\n",
       "      <td>0.069767</td>\n",
       "      <td>0.348837</td>\n",
       "      <td>...</td>\n",
       "      <td>0.488372</td>\n",
       "      <td>0.348837</td>\n",
       "      <td>1.093023</td>\n",
       "      <td>0.581395</td>\n",
       "      <td>1.023256</td>\n",
       "      <td>0.558140</td>\n",
       "      <td>0.395349</td>\n",
       "      <td>0.302326</td>\n",
       "      <td>0.395349</td>\n",
       "      <td>0.348837</td>\n",
       "    </tr>\n",
       "    <tr>\n",
       "      <td>2</td>\n",
       "      <td>0.076923</td>\n",
       "      <td>0.179487</td>\n",
       "      <td>0.000000</td>\n",
       "      <td>0.179487</td>\n",
       "      <td>0.076923</td>\n",
       "      <td>0.538462</td>\n",
       "      <td>0.564103</td>\n",
       "      <td>0.102564</td>\n",
       "      <td>0.051282</td>\n",
       "      <td>0.256410</td>\n",
       "      <td>...</td>\n",
       "      <td>0.128205</td>\n",
       "      <td>0.102564</td>\n",
       "      <td>0.512821</td>\n",
       "      <td>0.256410</td>\n",
       "      <td>0.205128</td>\n",
       "      <td>0.076923</td>\n",
       "      <td>0.435897</td>\n",
       "      <td>0.179487</td>\n",
       "      <td>0.333333</td>\n",
       "      <td>0.179487</td>\n",
       "    </tr>\n",
       "    <tr>\n",
       "      <td>3</td>\n",
       "      <td>0.000000</td>\n",
       "      <td>0.692308</td>\n",
       "      <td>0.538462</td>\n",
       "      <td>0.000000</td>\n",
       "      <td>0.230769</td>\n",
       "      <td>0.461538</td>\n",
       "      <td>0.538462</td>\n",
       "      <td>0.846154</td>\n",
       "      <td>0.230769</td>\n",
       "      <td>0.384615</td>\n",
       "      <td>...</td>\n",
       "      <td>0.307692</td>\n",
       "      <td>0.000000</td>\n",
       "      <td>0.846154</td>\n",
       "      <td>0.538462</td>\n",
       "      <td>0.538462</td>\n",
       "      <td>0.230769</td>\n",
       "      <td>1.153846</td>\n",
       "      <td>0.461538</td>\n",
       "      <td>1.000000</td>\n",
       "      <td>0.230769</td>\n",
       "    </tr>\n",
       "    <tr>\n",
       "      <td>4</td>\n",
       "      <td>0.882353</td>\n",
       "      <td>0.075630</td>\n",
       "      <td>0.025210</td>\n",
       "      <td>0.025210</td>\n",
       "      <td>0.000000</td>\n",
       "      <td>0.655462</td>\n",
       "      <td>0.991597</td>\n",
       "      <td>0.243697</td>\n",
       "      <td>0.033613</td>\n",
       "      <td>0.369748</td>\n",
       "      <td>...</td>\n",
       "      <td>0.806723</td>\n",
       "      <td>0.100840</td>\n",
       "      <td>0.285714</td>\n",
       "      <td>0.100840</td>\n",
       "      <td>0.210084</td>\n",
       "      <td>0.134454</td>\n",
       "      <td>0.361345</td>\n",
       "      <td>0.075630</td>\n",
       "      <td>0.159664</td>\n",
       "      <td>0.873950</td>\n",
       "    </tr>\n",
       "    <tr>\n",
       "      <td>...</td>\n",
       "      <td>...</td>\n",
       "      <td>...</td>\n",
       "      <td>...</td>\n",
       "      <td>...</td>\n",
       "      <td>...</td>\n",
       "      <td>...</td>\n",
       "      <td>...</td>\n",
       "      <td>...</td>\n",
       "      <td>...</td>\n",
       "      <td>...</td>\n",
       "      <td>...</td>\n",
       "      <td>...</td>\n",
       "      <td>...</td>\n",
       "      <td>...</td>\n",
       "      <td>...</td>\n",
       "      <td>...</td>\n",
       "      <td>...</td>\n",
       "      <td>...</td>\n",
       "      <td>...</td>\n",
       "      <td>...</td>\n",
       "      <td>...</td>\n",
       "    </tr>\n",
       "    <tr>\n",
       "      <td>938</td>\n",
       "      <td>0.555556</td>\n",
       "      <td>0.666667</td>\n",
       "      <td>0.083333</td>\n",
       "      <td>0.083333</td>\n",
       "      <td>0.444444</td>\n",
       "      <td>0.750000</td>\n",
       "      <td>0.666667</td>\n",
       "      <td>0.222222</td>\n",
       "      <td>0.000000</td>\n",
       "      <td>0.416667</td>\n",
       "      <td>...</td>\n",
       "      <td>0.361111</td>\n",
       "      <td>0.583333</td>\n",
       "      <td>1.083333</td>\n",
       "      <td>0.500000</td>\n",
       "      <td>1.250000</td>\n",
       "      <td>0.000000</td>\n",
       "      <td>0.333333</td>\n",
       "      <td>0.305556</td>\n",
       "      <td>0.194444</td>\n",
       "      <td>0.472222</td>\n",
       "    </tr>\n",
       "    <tr>\n",
       "      <td>939</td>\n",
       "      <td>0.808824</td>\n",
       "      <td>0.250000</td>\n",
       "      <td>0.250000</td>\n",
       "      <td>0.220588</td>\n",
       "      <td>0.632353</td>\n",
       "      <td>0.985294</td>\n",
       "      <td>1.029412</td>\n",
       "      <td>0.279412</td>\n",
       "      <td>0.147059</td>\n",
       "      <td>0.764706</td>\n",
       "      <td>...</td>\n",
       "      <td>1.073529</td>\n",
       "      <td>0.279412</td>\n",
       "      <td>0.455882</td>\n",
       "      <td>0.264706</td>\n",
       "      <td>0.367647</td>\n",
       "      <td>0.176471</td>\n",
       "      <td>0.000000</td>\n",
       "      <td>0.117647</td>\n",
       "      <td>0.617647</td>\n",
       "      <td>0.558824</td>\n",
       "    </tr>\n",
       "    <tr>\n",
       "      <td>940</td>\n",
       "      <td>1.133333</td>\n",
       "      <td>0.866667</td>\n",
       "      <td>0.466667</td>\n",
       "      <td>0.400000</td>\n",
       "      <td>0.600000</td>\n",
       "      <td>1.066667</td>\n",
       "      <td>0.466667</td>\n",
       "      <td>0.466667</td>\n",
       "      <td>0.533333</td>\n",
       "      <td>0.666667</td>\n",
       "      <td>...</td>\n",
       "      <td>0.266667</td>\n",
       "      <td>0.533333</td>\n",
       "      <td>1.466667</td>\n",
       "      <td>1.200000</td>\n",
       "      <td>1.066667</td>\n",
       "      <td>0.733333</td>\n",
       "      <td>0.533333</td>\n",
       "      <td>0.000000</td>\n",
       "      <td>0.666667</td>\n",
       "      <td>0.733333</td>\n",
       "    </tr>\n",
       "    <tr>\n",
       "      <td>941</td>\n",
       "      <td>0.490909</td>\n",
       "      <td>0.309091</td>\n",
       "      <td>0.236364</td>\n",
       "      <td>0.236364</td>\n",
       "      <td>0.345455</td>\n",
       "      <td>1.127273</td>\n",
       "      <td>1.400000</td>\n",
       "      <td>0.363636</td>\n",
       "      <td>0.000000</td>\n",
       "      <td>0.618182</td>\n",
       "      <td>...</td>\n",
       "      <td>0.618182</td>\n",
       "      <td>0.218182</td>\n",
       "      <td>0.345455</td>\n",
       "      <td>0.218182</td>\n",
       "      <td>0.290909</td>\n",
       "      <td>0.127273</td>\n",
       "      <td>0.763636</td>\n",
       "      <td>0.181818</td>\n",
       "      <td>0.000000</td>\n",
       "      <td>0.672727</td>\n",
       "    </tr>\n",
       "    <tr>\n",
       "      <td>942</td>\n",
       "      <td>0.874016</td>\n",
       "      <td>0.118110</td>\n",
       "      <td>0.055118</td>\n",
       "      <td>0.023622</td>\n",
       "      <td>0.818898</td>\n",
       "      <td>0.606299</td>\n",
       "      <td>1.102362</td>\n",
       "      <td>0.330709</td>\n",
       "      <td>0.039370</td>\n",
       "      <td>0.417323</td>\n",
       "      <td>...</td>\n",
       "      <td>0.551181</td>\n",
       "      <td>0.212598</td>\n",
       "      <td>0.275591</td>\n",
       "      <td>0.094488</td>\n",
       "      <td>0.322835</td>\n",
       "      <td>0.133858</td>\n",
       "      <td>0.299213</td>\n",
       "      <td>0.086614</td>\n",
       "      <td>0.291339</td>\n",
       "      <td>0.000000</td>\n",
       "    </tr>\n",
       "  </tbody>\n",
       "</table>\n",
       "<p>943 rows × 943 columns</p>\n",
       "</div>"
      ],
      "text/plain": [
       "          0         1         2         3         4         5         6    \\\n",
       "0    0.000000  0.115385  0.016484  0.000000  0.576923  0.763736  1.010989   \n",
       "1    0.488372  0.000000  0.162791  0.209302  0.209302  1.139535  0.558140   \n",
       "2    0.076923  0.179487  0.000000  0.179487  0.076923  0.538462  0.564103   \n",
       "3    0.000000  0.692308  0.538462  0.000000  0.230769  0.461538  0.538462   \n",
       "4    0.882353  0.075630  0.025210  0.025210  0.000000  0.655462  0.991597   \n",
       "..        ...       ...       ...       ...       ...       ...       ...   \n",
       "938  0.555556  0.666667  0.083333  0.083333  0.444444  0.750000  0.666667   \n",
       "939  0.808824  0.250000  0.250000  0.220588  0.632353  0.985294  1.029412   \n",
       "940  1.133333  0.866667  0.466667  0.400000  0.600000  1.066667  0.466667   \n",
       "941  0.490909  0.309091  0.236364  0.236364  0.345455  1.127273  1.400000   \n",
       "942  0.874016  0.118110  0.055118  0.023622  0.818898  0.606299  1.102362   \n",
       "\n",
       "          7         8         9    ...       933       934       935  \\\n",
       "0    0.274725  0.043956  0.648352  ...  0.521978  0.049451  0.362637   \n",
       "1    0.186047  0.069767  0.348837  ...  0.488372  0.348837  1.093023   \n",
       "2    0.102564  0.051282  0.256410  ...  0.128205  0.102564  0.512821   \n",
       "3    0.846154  0.230769  0.384615  ...  0.307692  0.000000  0.846154   \n",
       "4    0.243697  0.033613  0.369748  ...  0.806723  0.100840  0.285714   \n",
       "..        ...       ...       ...  ...       ...       ...       ...   \n",
       "938  0.222222  0.000000  0.416667  ...  0.361111  0.583333  1.083333   \n",
       "939  0.279412  0.147059  0.764706  ...  1.073529  0.279412  0.455882   \n",
       "940  0.466667  0.533333  0.666667  ...  0.266667  0.533333  1.466667   \n",
       "941  0.363636  0.000000  0.618182  ...  0.618182  0.218182  0.345455   \n",
       "942  0.330709  0.039370  0.417323  ...  0.551181  0.212598  0.275591   \n",
       "\n",
       "          936       937       938       939       940       941       942  \n",
       "0    0.093407  0.241758  0.109890  0.302198  0.093407  0.148352  0.609890  \n",
       "1    0.581395  1.023256  0.558140  0.395349  0.302326  0.395349  0.348837  \n",
       "2    0.256410  0.205128  0.076923  0.435897  0.179487  0.333333  0.179487  \n",
       "3    0.538462  0.538462  0.230769  1.153846  0.461538  1.000000  0.230769  \n",
       "4    0.100840  0.210084  0.134454  0.361345  0.075630  0.159664  0.873950  \n",
       "..        ...       ...       ...       ...       ...       ...       ...  \n",
       "938  0.500000  1.250000  0.000000  0.333333  0.305556  0.194444  0.472222  \n",
       "939  0.264706  0.367647  0.176471  0.000000  0.117647  0.617647  0.558824  \n",
       "940  1.200000  1.066667  0.733333  0.533333  0.000000  0.666667  0.733333  \n",
       "941  0.218182  0.290909  0.127273  0.763636  0.181818  0.000000  0.672727  \n",
       "942  0.094488  0.322835  0.133858  0.299213  0.086614  0.291339  0.000000  \n",
       "\n",
       "[943 rows x 943 columns]"
      ]
     },
     "execution_count": 14,
     "metadata": {},
     "output_type": "execute_result"
    }
   ],
   "source": [
    "print(np.min(weight_matrix), np.max(weight_matrix), np.mean(weight_matrix))\n",
    "pd.DataFrame(weight_matrix)"
   ]
  },
  {
   "cell_type": "code",
   "execution_count": 15,
   "metadata": {
    "ExecuteTime": {
     "end_time": "2020-01-02T20:00:42.182822Z",
     "start_time": "2020-01-02T20:00:41.811071Z"
    }
   },
   "outputs": [
    {
     "data": {
      "image/png": "[encoded data removed]",
      "text/plain": [
       "<Figure size 432x288 with 1 Axes>"
      ]
     },
     "metadata": {
      "needs_background": "light"
     },
     "output_type": "display_data"
    }
   ],
   "source": [
    "plt.imshow(weight_matrix)\n",
    "plt.show()"
   ]
  },
  {
   "cell_type": "code",
   "execution_count": 16,
   "metadata": {
    "ExecuteTime": {
     "end_time": "2020-01-02T20:00:42.565757Z",
     "start_time": "2020-01-02T20:00:42.185435Z"
    }
   },
   "outputs": [
    {
     "data": {
      "image/png": "[encoded data removed]",
      "text/plain": [
       "<Figure size 432x288 with 1 Axes>"
      ]
     },
     "metadata": {
      "needs_background": "light"
     },
     "output_type": "display_data"
    }
   ],
   "source": [
    "plt.hist(weight_matrix[weight_matrix > 0].flatten())\n",
    "plt.show()"
   ]
  },
  {
   "cell_type": "markdown",
   "metadata": {},
   "source": [
    "The following cells can be used to determine the number of commonly rated movies between two users. "
   ]
  },
  {
   "cell_type": "markdown",
   "metadata": {},
   "source": [
    "intersect_matrix = squareform(pdist(rating_train, count_intersect))"
   ]
  },
  {
   "cell_type": "raw",
   "metadata": {},
   "source": [
    "\n",
    "plt.imshow(intersect_matrix)\n",
    "plt.show()\n",
    "plt.hist((intersect_matrix[intersect_matrix < 10]).flatten())\n",
    "plt.show()\n",
    "print(np.min(intersect_matrix), np.max(intersect_matrix), np.mean(intersect_matrix), np.count_nonzero(intersect_matrix[1,:])/2)\n",
    "pd.DataFrame(intersect_matrix)"
   ]
  },
  {
   "cell_type": "markdown",
   "metadata": {},
   "source": [
    "Define an epsilon kernel (epsilon similarity matrix)"
   ]
  },
  {
   "cell_type": "code",
   "execution_count": 17,
   "metadata": {
    "ExecuteTime": {
     "end_time": "2020-01-02T20:00:42.580904Z",
     "start_time": "2020-01-02T20:00:42.569361Z"
    }
   },
   "outputs": [],
   "source": [
    "def epsilon_kernel(X: np.ndarray, sigma=1, epsilon=0):\n",
    "    \"\"\" X (n x d): distance matrix\n",
    "        sigma (float): width of the kernel\n",
    "        epsilon (float): threshold\n",
    "        Return:\n",
    "        adjacency (n x n ndarray): adjacency matrix of the graph.\n",
    "    \"\"\"\n",
    "    adjacency = np.exp( - X / (2 * (sigma ** 2)))\n",
    "    adjacency[adjacency < epsilon] = 0\n",
    "    np.fill_diagonal(adjacency, 0)\n",
    "    return adjacency"
   ]
  },
  {
   "cell_type": "markdown",
   "metadata": {},
   "source": [
    "## Prediction function\n",
    "Here we define the prediction function\n",
    "It takes the weights of one user to the other users, as well as the rating table as input. \n",
    "The weights vector for the users is expand to a matrix of the size of the ratings and we set the weights for the unrated movies to zeros. This makes it possible to normalize the weights of each movie row. This matrix is element-wise multiplied with the given ratings matrix. Finally the weighted ratings for every movie are summed, to get a predicted rating for every movie"
   ]
  },
  {
   "cell_type": "code",
   "execution_count": 18,
   "metadata": {
    "ExecuteTime": {
     "end_time": "2020-01-02T20:00:42.739285Z",
     "start_time": "2020-01-02T20:00:42.584134Z"
    }
   },
   "outputs": [
    {
     "ename": "NameError",
     "evalue": "name 'ratings_train' is not defined",
     "output_type": "error",
     "traceback": [
      "\u001b[0;31m---------------------------------------------------------------------------\u001b[0m",
      "\u001b[0;31mNameError\u001b[0m                                 Traceback (most recent call last)",
      "\u001b[0;32m<ipython-input-18-52bce995be4f>\u001b[0m in \u001b[0;36m<module>\u001b[0;34m\u001b[0m\n\u001b[1;32m     23\u001b[0m \u001b[0;34m\u001b[0m\u001b[0m\n\u001b[1;32m     24\u001b[0m \u001b[0;31m## use the train dataset\u001b[0m\u001b[0;34m\u001b[0m\u001b[0;34m\u001b[0m\u001b[0;34m\u001b[0m\u001b[0m\n\u001b[0;32m---> 25\u001b[0;31m \u001b[0mpred_ratings\u001b[0m \u001b[0;34m=\u001b[0m \u001b[0mpredictRating\u001b[0m\u001b[0;34m(\u001b[0m\u001b[0mweight_matrix\u001b[0m\u001b[0;34m[\u001b[0m\u001b[0mi_user\u001b[0m\u001b[0;34m,\u001b[0m\u001b[0;34m:\u001b[0m\u001b[0;34m]\u001b[0m\u001b[0;34m.\u001b[0m\u001b[0mcopy\u001b[0m\u001b[0;34m(\u001b[0m\u001b[0;34m)\u001b[0m\u001b[0;34m,\u001b[0m \u001b[0mratings_train\u001b[0m\u001b[0;34m)\u001b[0m\u001b[0;34m\u001b[0m\u001b[0;34m\u001b[0m\u001b[0m\n\u001b[0m",
      "\u001b[0;31mNameError\u001b[0m: name 'ratings_train' is not defined"
     ]
    }
   ],
   "source": [
    "i_user = 12\n",
    "variance = 900\n",
    "\n",
    "#ratings_np = ratings_np[:variance,:]\n",
    "ratings_np.shape\n",
    "rating_mask = (ratings_np != 0).astype(float)\n",
    "\n",
    "def predictRating(user_corr, ratings ):\n",
    "    rating_mask = (ratings != 0).astype(float)\n",
    "    #user_corr = np.random.rand(user_corr.shape[0])\n",
    "    #user_corr = np.random.rand(user_corr.shape[0])\n",
    "    user_corr = user_corr\n",
    "    #user_corr[user_corr == 4] = 0\n",
    "    #np.kron(user_corr[:4])\n",
    "    #user_corr[:4].shape)\n",
    "    user_corr_expand = (np.ones((ratings.shape[1],1)) @ (user_corr.reshape((1,user_corr.shape[0])))).T * rating_mask \n",
    "    user_corr_exp_norm = user_corr_expand / (user_corr_expand.sum(axis=0)[np.newaxis, :] + 1E-10)\n",
    "    user_corr_exp_norm[np.isnan(user_corr_exp_norm)] = 0\n",
    "    weighted_ratings = ratings * user_corr_exp_norm\n",
    "    pred_ratings = weighted_ratings.sum(axis = 0)\n",
    "    return pred_ratings\n",
    "\n",
    "\n",
    "## use the train dataset\n",
    "pred_ratings = predictRating(weight_matrix[i_user,:].copy(), ratings_train)"
   ]
  },
  {
   "cell_type": "markdown",
   "metadata": {},
   "source": [
    "Possibility to look at the different intermediate matrices."
   ]
  },
  {
   "cell_type": "raw",
   "metadata": {},
   "source": [
    "pd.DataFrame(user_corr_expand).head()\n",
    "pd.DataFrame(user_corr_exp_norm).head()\n",
    "pd.DataFrame(ratings_np).head()\n",
    "pd.DataFrame(weighted_ratings).head()"
   ]
  },
  {
   "cell_type": "markdown",
   "metadata": {},
   "source": [
    "We can see that the ratings are in the expected range and the structure of the distribution seems reasonable."
   ]
  },
  {
   "cell_type": "code",
   "execution_count": null,
   "metadata": {
    "ExecuteTime": {
     "end_time": "2020-01-02T20:00:42.767952Z",
     "start_time": "2020-01-02T20:00:42.747441Z"
    }
   },
   "outputs": [],
   "source": [
    "pd.DataFrame(pred_ratings).head()"
   ]
  },
  {
   "cell_type": "code",
   "execution_count": null,
   "metadata": {
    "ExecuteTime": {
     "end_time": "2020-01-02T20:00:43.250355Z",
     "start_time": "2020-01-02T20:00:42.778755Z"
    }
   },
   "outputs": [],
   "source": [
    "plt.hist(pred_ratings)"
   ]
  },
  {
   "cell_type": "markdown",
   "metadata": {},
   "source": [
    "### Correlation display\n",
    "Here we compare the ground truth rating (x-axis) with the predicted ratings. We see a trend in the right direction."
   ]
  },
  {
   "cell_type": "code",
   "execution_count": null,
   "metadata": {
    "ExecuteTime": {
     "end_time": "2020-01-02T20:00:43.735042Z",
     "start_time": "2020-01-02T20:00:43.252750Z"
    }
   },
   "outputs": [],
   "source": [
    "plt.scatter(ratings_np[i_user,:],pred_ratings)\n",
    "plt.show()\n"
   ]
  },
  {
   "cell_type": "markdown",
   "metadata": {},
   "source": [
    "The same grafik can be plotted by violinplots, which show the distribution of the predicted Ratings.\n",
    "To see possible correlations the general average rating vor the movie is plotted for every .5 entry\n",
    "For this display we currently use all available ratings of the user."
   ]
  },
  {
   "cell_type": "code",
   "execution_count": null,
   "metadata": {
    "ExecuteTime": {
     "end_time": "2020-01-02T20:00:45.453804Z",
     "start_time": "2020-01-02T20:00:43.743734Z"
    }
   },
   "outputs": [],
   "source": [
    "ratings_user = ratings_np[i_user,:]\n",
    "mean_counter = ratings_np.copy().astype('float')\n",
    "mean_counter[mean_counter == 0] = np.nan\n",
    "mean_ratings = np.nanmean(mean_counter, axis = 0)\n",
    "df1 = pd.DataFrame({ 'True' :ratings_np[i_user,:], 'predict' : pred_ratings})\n",
    "df2 = pd.DataFrame({ 'True' : ratings_np[i_user,:] + 0.5, 'predict' : mean_ratings})\n",
    "df = pd.concat([df1, df2])\n",
    "\n",
    "\n",
    "sns.violinplot(x='True', y='predict', data=df, palette='Paired') #,split=True)\n",
    "sns.stripplot(x='True', y='predict', data=df, color=\"red\",jitter=0.2,dodge=True, size=3, alpha=0.3,linewidth=1)"
   ]
  },
  {
   "cell_type": "code",
   "execution_count": null,
   "metadata": {
    "ExecuteTime": {
     "end_time": "2020-01-02T20:00:45.504140Z",
     "start_time": "2020-01-02T20:00:45.469662Z"
    }
   },
   "outputs": [],
   "source": [
    "calculate the error of the predicted rating in comparison to the error of just taking the averages. "
   ]
  },
  {
   "cell_type": "code",
   "execution_count": null,
   "metadata": {
    "ExecuteTime": {
     "end_time": "2020-01-02T20:00:45.654393Z",
     "start_time": "2020-01-02T20:00:45.509327Z"
    }
   },
   "outputs": [],
   "source": [
    "error = np.sqrt(mean_squared_error(ratings_user[ratings_user != 0], pred_ratings[ratings_user != 0]))\n",
    "error_avg = np.sqrt(mean_squared_error(ratings_user[ratings_user != 0], mean_ratings[ratings_user != 0]))\n",
    "print(error, error_avg, np.count_nonzero(ratings_user != 0))"
   ]
  },
  {
   "cell_type": "markdown",
   "metadata": {},
   "source": [
    "## all users\n",
    "here we want to calculate the error for all ratings. Herefore we use the train split for the entire prediction part. Thereafter we use the test split to calculate the errors."
   ]
  },
  {
   "cell_type": "code",
   "execution_count": null,
   "metadata": {
    "ExecuteTime": {
     "end_time": "2020-01-02T20:13:45.210526Z",
     "start_time": "2020-01-02T20:13:12.816060Z"
    }
   },
   "outputs": [],
   "source": [
    "errors = []\n",
    "pred_ratings = np.zeros(ratings_np.shape)\n",
    "for ii in range(weight_matrix.shape[0]):\n",
    "    pred_rating = predictRating(weight_matrix[ii,:].copy(), rating_train)\n",
    "    pred_ratings[ii,:] = pred_rating\n",
    "    #pred_rating = predictRating(np.random.rand(nn_weight_mat.shape[0]), ratings_np)\n",
    "    ratings_user = rating_test[ii,:]\n",
    "    errors.append(np.sqrt(mean_squared_error(ratings_user[ratings_user != 0], np.round(pred_rating[ratings_user != 0]))))\n",
    "    #errors.append(np.sqrt(mean_squared_error(ratings_user[ratings_user != 0],(1+ 4 * np.random.rand(np.count_nonzero(ratings_user))))))\n",
    "    if ii % 10 == 0:\n",
    "        clear_output(wait=True)\n",
    "        display(ii,np.average(errors))\n",
    "#     if ii % 5 == 0:\n",
    "#         #clear_output(wait=True)\n",
    "#         line1.set_xdata(range(len(errors)))\n",
    "#         line1.set_ydata(errors)\n",
    "#         fig.canvas.draw()\n",
    "#         fig.canvas.flush_events()\n",
    "#         #plt.plot(errors)\n",
    "#         plt.show()"
   ]
  },
  {
   "cell_type": "code",
   "execution_count": null,
   "metadata": {
    "ExecuteTime": {
     "end_time": "2020-01-02T20:18:59.243176Z",
     "start_time": "2020-01-02T20:18:59.061888Z"
    }
   },
   "outputs": [],
   "source": [
    "plt.hist(sorted(errors), bins=15)\n",
    "plt.title(f'{np.average(errors):.4f}')\n",
    "plt.xlim(0,2.5)\n",
    "plt.show()\n",
    "plt.plot(sorted(errors))\n",
    "plt.show()"
   ]
  },
  {
   "cell_type": "markdown",
   "metadata": {},
   "source": [
    "We see that our error is not too bad and way better than just the averages.\n",
    "We want to test if this can be improved by using the predictions and perform a second run, so that the friends friends corrections can be seen."
   ]
  },
  {
   "cell_type": "code",
   "execution_count": null,
   "metadata": {
    "ExecuteTime": {
     "end_time": "2020-01-02T20:41:26.701516Z",
     "start_time": "2020-01-02T20:41:26.583060Z"
    }
   },
   "outputs": [],
   "source": [
    "plt.plot(sorted(pred_ratings[rating_test != 0] - rating_test[rating_test != 0]))"
   ]
  },
  {
   "cell_type": "code",
   "execution_count": null,
   "metadata": {
    "ExecuteTime": {
     "end_time": "2020-01-02T20:29:13.410308Z",
     "start_time": "2020-01-02T20:29:13.402014Z"
    }
   },
   "outputs": [],
   "source": [
    "ratings2 = pred_ratings.copy()\n",
    "ratings2[rating_train != 0] = 0\n",
    "ratings2 += rating_train"
   ]
  },
  {
   "cell_type": "code",
   "execution_count": null,
   "metadata": {
    "ExecuteTime": {
     "end_time": "2020-01-02T20:30:38.387768Z",
     "start_time": "2020-01-02T20:29:13.826961Z"
    }
   },
   "outputs": [],
   "source": [
    "weight_matrix2 = squareform(pdist(ratings2, user_weight_simple))\n",
    "np.fill_diagonal(weight_matrix2,0)\n",
    "plt.imshow(weight_matrix2)"
   ]
  },
  {
   "cell_type": "code",
   "execution_count": null,
   "metadata": {
    "ExecuteTime": {
     "end_time": "2020-01-02T20:31:12.439550Z",
     "start_time": "2020-01-02T20:30:38.389743Z"
    }
   },
   "outputs": [],
   "source": [
    "errors2 = []\n",
    "pred_ratings2 = np.zeros(ratings_np.shape)\n",
    "for ii in range(weight_matrix.shape[0]):\n",
    "    pred_rating2 = predictRating(weight_matrix2[ii,:].copy(), rating_train)\n",
    "    pred_ratings2[ii,:] = pred_rating2\n",
    "    #pred_rating = predictRating(np.random.rand(nn_weight_mat.shape[0]), ratings_np)\n",
    "    ratings_user = rating_test[ii,:]\n",
    "    errors2.append(np.sqrt(mean_squared_error(ratings_user[ratings_user != 0], np.round(pred_rating2[ratings_user != 0]))))\n",
    "    #errors.append(np.sqrt(mean_squared_error(ratings_user[ratings_user != 0],(1+ 4 * np.random.rand(np.count_nonzero(ratings_user))))))\n",
    "    if ii % 10 == 0:\n",
    "        clear_output(wait=True)\n",
    "        display(ii,np.average(errors2))"
   ]
  },
  {
   "cell_type": "markdown",
   "metadata": {},
   "source": [
    "We could improve a little bit, but not necessarily more than just the variations of the available samples."
   ]
  },
  {
   "cell_type": "markdown",
   "metadata": {},
   "source": [
    "Another approach will be to use the movie feature graph and perform signal filtering to improve our results."
   ]
  },
  {
   "cell_type": "code",
   "execution_count": null,
   "metadata": {
    "ExecuteTime": {
     "end_time": "2020-01-02T20:37:35.474641Z",
     "start_time": "2020-01-02T20:37:31.964432Z"
    }
   },
   "outputs": [],
   "source": [
    "graph = nx.read_gexf('../generated/movie_genre_dense.gexf')\n",
    "adjacency = nx.to_numpy_matrix(graph)"
   ]
  },
  {
   "cell_type": "code",
   "execution_count": null,
   "metadata": {
    "ExecuteTime": {
     "end_time": "2020-01-02T20:37:45.317779Z",
     "start_time": "2020-01-02T20:37:45.173450Z"
    }
   },
   "outputs": [],
   "source": [
    "plt.spy(adjacency)"
   ]
  },
  {
   "cell_type": "code",
   "execution_count": null,
   "metadata": {
    "ExecuteTime": {
     "end_time": "2020-01-02T20:38:46.685124Z",
     "start_time": "2020-01-02T20:38:28.155105Z"
    }
   },
   "outputs": [],
   "source": [
    "G = graphs.Graph(adjacency)\n",
    "G.set_coordinates()\n",
    "G.compute_laplacian('normalized')\n",
    "G.compute_fourier_basis()"
   ]
  },
  {
   "cell_type": "code",
   "execution_count": null,
   "metadata": {
    "ExecuteTime": {
     "end_time": "2020-01-02T21:11:39.457740Z",
     "start_time": "2020-01-02T21:11:39.452396Z"
    }
   },
   "outputs": [],
   "source": [
    "user = 1\n",
    "signal = ratings2[user].copy()\n",
    "mask = rating_train[user] != 0\n",
    "val = (rating_test[user].copy()).astype(float)\n",
    "val_mask = val != 0\n",
    "val[~val_mask] = np.nan\n",
    "signal, val"
   ]
  },
  {
   "cell_type": "code",
   "execution_count": null,
   "metadata": {
    "ExecuteTime": {
     "end_time": "2020-01-02T20:54:41.549934Z",
     "start_time": "2020-01-02T20:54:41.541814Z"
    }
   },
   "outputs": [],
   "source": [
    "fouriersig = G.gft(signal)\n",
    "fouriersig"
   ]
  },
  {
   "cell_type": "code",
   "execution_count": null,
   "metadata": {
    "ExecuteTime": {
     "end_time": "2020-01-02T20:54:41.882458Z",
     "start_time": "2020-01-02T20:54:41.772183Z"
    }
   },
   "outputs": [],
   "source": [
    "plt.plot(fouriersig)"
   ]
  },
  {
   "cell_type": "code",
   "execution_count": null,
   "metadata": {
    "ExecuteTime": {
     "end_time": "2020-01-02T20:54:41.972380Z",
     "start_time": "2020-01-02T20:54:41.967732Z"
    }
   },
   "outputs": [],
   "source": [
    "def fit_polynomial(lam: np.ndarray, order: int, spectral_response: np.ndarray):\n",
    "    \"\"\" Return an array of polynomial coefficients of length 'order'.\"\"\"\n",
    "    vander = np.vander(lam, order+1)\n",
    "    return np.linalg.lstsq(vander, spectral_response)[0]\n",
    "\n",
    "def polynomial_graph_filter_response(coeff: np.array, lam: np.ndarray):\n",
    "    \"\"\" Return an array of the same shape as lam.\n",
    "        response[i] is the spectral response at frequency lam[i]. \"\"\"\n",
    "    vander = np.vander(lam, len(coeff))\n",
    "    return vander @ coeff\n",
    "\n",
    "def polynomial_graph_filter(coeff: np.array, laplacian: np.ndarray):\n",
    "    \"\"\" Return the laplacian polynomial with coefficients 'coeff'. \"\"\"\n",
    "    laplacian_poly = 0\n",
    "    for i, coef in enumerate(coeff):\n",
    "        deg = len(coeff) - i - 1\n",
    "        laplacian_poly += coef * np.linalg.matrix_power(laplacian, deg)\n",
    "    return laplacian_poly"
   ]
  },
  {
   "cell_type": "markdown",
   "metadata": {},
   "source": [
    "## Tricky part \n",
    "here we have to get a good filter, which seems to be hard."
   ]
  },
  {
   "cell_type": "code",
   "execution_count": null,
   "metadata": {
    "ExecuteTime": {
     "end_time": "2020-01-02T20:54:42.198540Z",
     "start_time": "2020-01-02T20:54:42.189416Z"
    }
   },
   "outputs": [],
   "source": [
    "ideal_lp = np.ones((G.n_vertices,))\n",
    "ideal_lp[G.e < 1.005] = 0  # Low-pass filter with cut-off at lambda=0.1\n",
    "ideal_lp[G.e > 1.6] = 0  # Low-pass filter with cut-off at lambda=0.1\n",
    "ideal_filter = ideal_lp# Store your spectral response here"
   ]
  },
  {
   "cell_type": "code",
   "execution_count": null,
   "metadata": {
    "ExecuteTime": {
     "end_time": "2020-01-02T21:19:07.229902Z",
     "start_time": "2020-01-02T21:19:06.941637Z"
    }
   },
   "outputs": [],
   "source": [
    "#alpha = 0.99 / np.max(G.e)\n",
    "\n",
    "#ideal_filter =  1/(1 + alpha*G.e)\n",
    "ideal_filter = np.ones(G.e.shape)\n",
    "#ideal_filter[G.e < 0.1] = 0\n",
    "ideal_filter[G.e > 1.55] = 0\n",
    "plt.plot(ideal_filter, label = 'filter')\n",
    "plt.plot(G.e, label = 'eigenvalues')\n",
    "plt.legend()\n",
    "plt.show()\n",
    "plt.scatter(G.e, ideal_filter)\n",
    "plt.show()"
   ]
  },
  {
   "cell_type": "code",
   "execution_count": null,
   "metadata": {
    "ExecuteTime": {
     "end_time": "2020-01-02T21:18:39.890110Z",
     "start_time": "2020-01-02T21:18:39.341537Z"
    }
   },
   "outputs": [],
   "source": [
    "order =  4\n",
    "\n",
    "coeff = fit_polynomial(G.e, order, ideal_filter)\n",
    "graph_filter = polynomial_graph_filter(coeff, G.L.A)"
   ]
  },
  {
   "cell_type": "code",
   "execution_count": null,
   "metadata": {
    "ExecuteTime": {
     "end_time": "2020-01-02T21:18:40.568852Z",
     "start_time": "2020-01-02T21:18:40.369375Z"
    }
   },
   "outputs": [],
   "source": [
    "plt.plot(G.e, ideal_filter)\n",
    "plt.scatter(G.e, polynomial_graph_filter_response(coeff, G.e),color='green')\n",
    "# plt.yl\n",
    "plt.plot(G.e, polynomial_graph_filter_response(coeff, G.e),'g')\n",
    "plt.legend(['Ideal','P1_dot', 'Polynomial'])\n",
    "plt.xlabel('$\\lambda$')\n",
    "plt.ylabel('Spectral response')\n",
    "plt.show()"
   ]
  },
  {
   "cell_type": "code",
   "execution_count": null,
   "metadata": {
    "ExecuteTime": {
     "end_time": "2020-01-02T21:18:42.696756Z",
     "start_time": "2020-01-02T21:18:42.164362Z"
    }
   },
   "outputs": [],
   "source": [
    "graph_gcn_filter = polynomial_graph_filter(coeff, G.L.A)"
   ]
  },
  {
   "cell_type": "code",
   "execution_count": null,
   "metadata": {
    "ExecuteTime": {
     "end_time": "2020-01-02T21:18:42.916505Z",
     "start_time": "2020-01-02T21:18:42.907224Z"
    }
   },
   "outputs": [],
   "source": [
    "signal_filtered = (graph_gcn_filter) @ signal\n",
    "signal_filtered_val = signal_filtered.copy()\n",
    "signal_filtered_val[~val_mask] = np.nan"
   ]
  },
  {
   "cell_type": "code",
   "execution_count": null,
   "metadata": {
    "ExecuteTime": {
     "end_time": "2020-01-02T21:18:45.877837Z",
     "start_time": "2020-01-02T21:18:44.010557Z"
    }
   },
   "outputs": [],
   "source": [
    "fig, ax = plt.subplots(3, 4, sharey=True, figsize=(13, 9))\n",
    "limits = [signal.min(), signal.max()]\n",
    "_ = G.plot_signal(ratings_np[user], ax=ax[0,0], limits=limits, plot_name='Ground truth')\n",
    "\n",
    "_ = G.plot_signal(signal, ax=ax[0,1], limits=limits, plot_name='Noisy')\n",
    "signal_red = signal.copy()\n",
    "signal_red[~val_mask] = np.nan\n",
    "_ = G.plot_signal(signal_red, ax = ax[1,1], limits = limits, plot_name = 'noisy val')\n",
    "_ = G.plot_signal(val, ax=ax[1,0], limits=limits, plot_name='Validation', show_edges=False)\n",
    "_ = G.plot_signal(signal_filtered, ax=ax[0,2], limits=limits, plot_name='Recovery all')\n",
    "_ = G.plot_signal(signal_filtered_val, ax=ax[1,2], limits=limits, plot_name='Recovery test')\n",
    "\n",
    "ground_train = ratings_np[user].copy().astype(float)\n",
    "signal_train = signal.copy()\n",
    "filtered_train = signal_filtered.copy()\n",
    "ground_train[~mask] = np.nan\n",
    "signal_train[~mask] = np.nan\n",
    "filtered_train[~mask] = np.nan\n",
    "_ = G.plot_signal(ground_train, ax=ax[2,0], limits=limits, plot_name='Ground truth')\n",
    "_ = G.plot_signal(signal_train, ax=ax[2,1], limits=limits, plot_name='signal learn')\n",
    "_ = G.plot_signal(filtered_train, ax=ax[2,2], limits=limits, plot_name='filtered learn')\n",
    "for i,av in enumerate(ax):\n",
    "    for j, v in enumerate(av):\n",
    "        ax[i,j].set_ylim([-0.25,0.25])\n",
    "        ax[i,j].set_xlim([-0.25,0.25])\n",
    "_ = fig.tight_layout()"
   ]
  },
  {
   "cell_type": "code",
   "execution_count": null,
   "metadata": {
    "ExecuteTime": {
     "end_time": "2020-01-02T21:18:45.885367Z",
     "start_time": "2020-01-02T21:18:45.880183Z"
    }
   },
   "outputs": [],
   "source": [
    "print(np.sqrt(mean_squared_error(val[val_mask], signal[val_mask])),\n",
    "np.sqrt(mean_squared_error(val[val_mask], signal_filtered[val_mask])))"
   ]
  },
  {
   "cell_type": "markdown",
   "metadata": {},
   "source": [
    "Here we see that for the current filter. The signal validation data will be worsened by additional graph filtering."
   ]
  },
  {
   "cell_type": "code",
   "execution_count": null,
   "metadata": {},
   "outputs": [],
   "source": []
  }
 ],
 "metadata": {
  "kernelspec": {
   "display_name": "Python 3",
   "language": "python",
   "name": "python3"
  },
  "language_info": {
   "codemirror_mode": {
    "name": "ipython",
    "version": 3
   },
   "file_extension": ".py",
   "mimetype": "text/x-python",
   "name": "python",
   "nbconvert_exporter": "python",
   "pygments_lexer": "ipython3",
   "version": "3.7.3"
  },
  "toc": {
   "base_numbering": 1,
   "nav_menu": {},
   "number_sections": false,
   "sideBar": true,
   "skip_h1_title": false,
   "title_cell": "Table of Contents",
   "title_sidebar": "Contents",
   "toc_cell": false,
   "toc_position": {},
   "toc_section_display": true,
   "toc_window_display": false
  }
 },
 "nbformat": 4,
 "nbformat_minor": 4
}
